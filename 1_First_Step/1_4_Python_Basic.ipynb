{
 "cells": [
  {
   "cell_type": "code",
   "execution_count": 2,
   "metadata": {},
   "outputs": [
    {
     "name": "stdout",
     "output_type": "stream",
     "text": [
      "안녕하세요\n",
      "5\n",
      "5\n"
     ]
    }
   ],
   "source": [
    "# 예제 1-1 셀단위 코드 입력/실행/주석\n",
    "print(\"안녕하세요\")\n"
   ]
  },
  {
   "cell_type": "code",
   "execution_count": 5,
   "metadata": {},
   "outputs": [
    {
     "name": "stdout",
     "output_type": "stream",
     "text": [
      "Hi\n"
     ]
    }
   ],
   "source": [
    "# 예제 1-2 셀단위 코드 입력/실행/주석\n",
    "print(\"Hi\")\n",
    "# 주석: # 뒤에 나온 부분은 주석으로 실행되지 않습니다.  "
   ]
  },
  {
   "cell_type": "code",
   "execution_count": 13,
   "metadata": {},
   "outputs": [
    {
     "name": "stdout",
     "output_type": "stream",
     "text": [
      "14\n",
      "4\n",
      "45\n",
      "1.8\n",
      "1\n",
      "4\n"
     ]
    }
   ],
   "source": [
    "# 예제 1-3 변수 입력 및 화면 출력\n",
    "a = 9\n",
    "b = 5\n",
    "\n",
    "print(a + b)    # 더하기\n",
    "print(a - b)    # 빼기\n",
    "print(a * b)    # 곱하기\n",
    "print(a / b)    # 나누기\n",
    "print(a // b)   # 나눈 몫\n",
    "print(a % b)    # 나눈 나머지"
   ]
  },
  {
   "cell_type": "code",
   "execution_count": 14,
   "metadata": {
    "scrolled": true
   },
   "outputs": [
    {
     "name": "stdout",
     "output_type": "stream",
     "text": [
      "14\n",
      "4\n",
      "45\n",
      "1.8\n",
      "1\n",
      "4\n"
     ]
    }
   ],
   "source": [
    "# 예제 1-4 사칙연산 화면에 출력하기  \n",
    "print(a + b)    # 더하기\n",
    "print(a - b)    # 빼기\n",
    "print(a * b)    # 곱하기\n",
    "print(a / b)    # 나누기\n",
    "print(a // b)   # 나눈 몫\n",
    "print(a % b)    # 나눈 나머지"
   ]
  },
  {
   "cell_type": "code",
   "execution_count": 17,
   "metadata": {},
   "outputs": [
    {
     "name": "stdout",
     "output_type": "stream",
     "text": [
      "파이썬 데이터분석입문  PlaywithData 데이터수집\n"
     ]
    }
   ],
   "source": [
    "# 예제 1-5 변수 여러 개 출력하기  \n",
    "print('파이썬', '데이터분석입문',' PlaywithData','데이터수집')"
   ]
  },
  {
   "cell_type": "markdown",
   "metadata": {},
   "source": [
    "print(값)  : 화면에 출력  << 값 >>"
   ]
  },
  {
   "cell_type": "code",
   "execution_count": 18,
   "metadata": {
    "scrolled": true
   },
   "outputs": [
    {
     "name": "stdout",
     "output_type": "stream",
     "text": [
      "귤 / 사과 / 배\n"
     ]
    }
   ],
   "source": [
    "# 예제  1-6 변수 여러 개 출력하기  \n",
    "print('귤','사과','배',sep = ' / ')     "
   ]
  },
  {
   "cell_type": "code",
   "execution_count": null,
   "metadata": {},
   "outputs": [],
   "source": [
    "# 예제 1-7 리스트 자료 입력\n",
    "print( '1번','2번','3번','4번','5번','6번','7번','8번','9번','10번')\n",
    "class_2_1= [ '1번','2번','3번','4번','5번','6번','7번','8번','9번','10번' ] \n",
    "print(class_2_1)"
   ]
  },
  {
   "cell_type": "code",
   "execution_count": 40,
   "metadata": {},
   "outputs": [
    {
     "name": "stdout",
     "output_type": "stream",
     "text": [
      "23\n"
     ]
    }
   ],
   "source": [
    "# 예제 1-8 리스트 자료 내 원소 1개 선택하기: 인덱스 번호 활용\n",
    "k = [1,2,3,4,5]\n",
    "m = [6,7,8,9,10]\n",
    "#index    0   1   2   3   4\n",
    "#index   -5  -4   -3  -2  -1\n",
    "\n",
    "print( k[4]+m[-1]+m[-3])      "
   ]
  },
  {
   "cell_type": "code",
   "execution_count": 46,
   "metadata": {},
   "outputs": [
    {
     "name": "stdout",
     "output_type": "stream",
     "text": [
      "['b', 'c']\n",
      "['b', 'c']\n",
      "['a', 'b', 'c', 'd']\n",
      "['a', 'b', 'c', 'd']\n",
      "['a', 'b', 'c', 'd', 'e']\n"
     ]
    }
   ],
   "source": [
    "# 예제 1-9 리스트 자료 구간별 글자 선택하기: 슬라이싱\n",
    "# list [인덱스시작번호: 끝 다음 번호] \n",
    "k     =  ['a', 'b','c','d','e']\n",
    "#index      0   1   2   3   4\n",
    "#index     -5  -4   -3  -2  -1\n",
    "print( k[ 1 : 3 ] )         \n",
    "print( k[ -4 : -2 ] )\n",
    "\n",
    "print(k[-5:-1])\n",
    "print(k[:-1])\n",
    "print(k[-5:])"
   ]
  },
  {
   "cell_type": "code",
   "execution_count": 48,
   "metadata": {
    "scrolled": false
   },
   "outputs": [
    {
     "name": "stdout",
     "output_type": "stream",
     "text": [
      "['a', 'b', 'c', 'e']\n",
      "['b', 'c', 'e', 'a']\n",
      "[1, 2, 3, 4, 5]\n"
     ]
    }
   ],
   "source": [
    "# 예제 1-10 리스트 합치기: 리스트1 + 리스트2\n",
    "# A + B\n",
    "l1 = ['a']\n",
    "l2 = ['b','c','e']\n",
    "print(l1 + l2)    \n",
    "print(l2 + l1)\n",
    "\n",
    "a = [1]\n",
    "b = [2,3,4,5]\n",
    "\n",
    "print(a + b)"
   ]
  },
  {
   "cell_type": "code",
   "execution_count": 55,
   "metadata": {},
   "outputs": [
    {
     "name": "stdout",
     "output_type": "stream",
     "text": [
      "['a', ['b', 'c', 'e']]\n",
      "[2, 3, 4, 5, [1]]\n",
      "[1, 2, 3, 4, 5, [1]]\n"
     ]
    }
   ],
   "source": [
    "# 예제 1-11 리스트 추가하기(하나의 원소로 붙이기): 리스트1.append(리스트2)\n",
    "l1 = ['a']\n",
    "l2 = ['b','c','e']\n",
    "l1.append(l2)      \n",
    "print(l1)\n",
    "\n",
    "c = [1]\n",
    "d = [2,3,4,5]\n",
    "d.append(c) # [2,3,4,5,[1]]\n",
    "print(d)\n",
    "print(c + d) # [1, 2, 3, 4, 5, [1]]"
   ]
  },
  {
   "cell_type": "code",
   "execution_count": 61,
   "metadata": {},
   "outputs": [
    {
     "name": "stdout",
     "output_type": "stream",
     "text": [
      "바나나\n",
      "사과\n",
      "딸기\n",
      "배\n",
      "감\n",
      "신원준\n",
      "헬스장\n",
      "가야함\n"
     ]
    }
   ],
   "source": [
    "# 예제 1-12 반복문 활용하기\n",
    "fruits = ['바나나','사과','딸기','배','감']\n",
    "for fruit in fruits:\n",
    "    print(fruit)\n",
    "    \n",
    "    \n",
    "kim = ['신원준', '헬스장', '가야함']\n",
    "for 가상으로만듬 in kim:\n",
    "    print(가상으로만듬)"
   ]
  },
  {
   "cell_type": "code",
   "execution_count": 62,
   "metadata": {},
   "outputs": [
    {
     "name": "stdout",
     "output_type": "stream",
     "text": [
      "문자\n"
     ]
    }
   ],
   "source": [
    "# 예제 1-13 문자열 입/출력\n",
    "s = '문자'\n",
    "print(s)"
   ]
  },
  {
   "cell_type": "code",
   "execution_count": 63,
   "metadata": {},
   "outputs": [
    {
     "name": "stdout",
     "output_type": "stream",
     "text": [
      "사과망고, 파인애플\n"
     ]
    }
   ],
   "source": [
    "# 예제 1-14 문자열 합치기(+)\n",
    "a = \"사과\"\n",
    "b = \"망고, 파인애플\"\n",
    "ab = a + b\n",
    "print(ab)    "
   ]
  },
  {
   "cell_type": "code",
   "execution_count": 65,
   "metadata": {},
   "outputs": [
    {
     "ename": "SyntaxError",
     "evalue": "invalid character '“' (U+201C) (2094635865.py, line 2)",
     "output_type": "error",
     "traceback": [
      "\u001b[1;36m  Cell \u001b[1;32mIn[65], line 2\u001b[1;36m\u001b[0m\n\u001b[1;33m    z = “*”\u001b[0m\n\u001b[1;37m        ^\u001b[0m\n\u001b[1;31mSyntaxError\u001b[0m\u001b[1;31m:\u001b[0m invalid character '“' (U+201C)\n"
     ]
    }
   ],
   "source": [
    "# 예제 1-15 문자열 반복하기(*)\n",
    "z = “*”\n",
    "print( z * 10)  "
   ]
  },
  {
   "cell_type": "code",
   "execution_count": 75,
   "metadata": {},
   "outputs": [
    {
     "name": "stdout",
     "output_type": "stream",
     "text": [
      "2월 20일은 일요일입니다\n",
      "신원준은 븅신입니다.\n",
      "신성진\n"
     ]
    }
   ],
   "source": [
    "# 예제 1-16 문자열 포매팅\n",
    "month = \"2월\"\n",
    "day = \"20일\"\n",
    "say = \"{} {}은 일요일입니다\".format(month, day)\n",
    "print(say)    \n",
    "\n",
    "\n",
    "sin = \"신\"\n",
    "wonjoon = \"원준\"\n",
    "븅신 = \"{}{}은 븅신입니다.\".format(sin, wonjoon)\n",
    "print(븅신)\n",
    "\n",
    "moon=\"문\"\n",
    "sungjin=\"성진\"\n",
    "개새끼=\"{}{}은 븅신새끼\".format(moon,sungjin)\n",
    "\n",
    "신원준 = \"{}\".format(sin) + \"{}\".format(sungjin)\n",
    "\n",
    "\n",
    "print(신원준)\n",
    "\n"
   ]
  },
  {
   "cell_type": "code",
   "execution_count": 77,
   "metadata": {},
   "outputs": [
    {
     "name": "stdout",
     "output_type": "stream",
     "text": [
      "다\n",
      "바\n",
      "다라마\n",
      "라마바\n"
     ]
    }
   ],
   "source": [
    "# 예제 1-17 문자열 일부 선택하기: 인덱스, 슬라이싱\n",
    "k       =   \"가나다라마바\"\n",
    "# index      0 1 2 3 4 5\n",
    "# index     -6-5-4-3-2-1 \n",
    "print(k[2])      \n",
    "print(k[-1])     \n",
    "print(k[2:5])    \n",
    "print(k[3:])     \n"
   ]
  },
  {
   "cell_type": "code",
   "execution_count": 82,
   "metadata": {},
   "outputs": [
    {
     "name": "stdout",
     "output_type": "stream",
     "text": [
      "   hp010-0000-0000   \n",
      "hp010-0000-0000\n",
      " 010-0000-0000\n",
      "[' 010', '0000', '0000']\n"
     ]
    }
   ],
   "source": [
    "# 예제 1-18 문자열 정리하기: strip(), replace(a,b), split()\n",
    "t1 = \"   hp010-0000-0000   \"\n",
    "print(t1)\n",
    "\n",
    "\n",
    "t2 = t1.strip()\n",
    "print(t2) \n",
    "\n",
    "\n",
    "t3 = t2.replace('hp', ' ')   \n",
    "print(t3)      \n",
    "\n",
    "\n",
    "t4 = t3.split('-')\n",
    "print(t4)      \n",
    "\n",
    "\n"
   ]
  },
  {
   "cell_type": "code",
   "execution_count": 87,
   "metadata": {},
   "outputs": [
    {
     "name": "stdout",
     "output_type": "stream",
     "text": [
      "적절하다\n"
     ]
    }
   ],
   "source": [
    "# 예제 1-19 if 조건문 사용하기\n",
    "price = 3000\n",
    "\n",
    "if price > 3000:\n",
    "    print('비싸다')\n",
    "elif price == 3000:\n",
    "    print('적절하다')\n",
    "else:\n",
    "    print('저렴하다')"
   ]
  },
  {
   "cell_type": "code",
   "execution_count": 94,
   "metadata": {},
   "outputs": [
    {
     "name": "stdout",
     "output_type": "stream",
     "text": [
      "비싸다원준아\n"
     ]
    }
   ],
   "source": [
    "# 예제 1-20 함수 예제: 자기 소개\n",
    "\n",
    "def goto_gym(sinwon):\n",
    "    price = 5000\n",
    "    if price > 3000:\n",
    "        print('비싸다' +sinwon)\n",
    "    elif price == 3000:\n",
    "        print('적절하다')\n",
    "    else:\n",
    "        print('저렴하다')\n",
    "    \n",
    "goto_gym(\"원준아\")\n"
   ]
  },
  {
   "cell_type": "code",
   "execution_count": 97,
   "metadata": {},
   "outputs": [
    {
     "name": "stdout",
     "output_type": "stream",
     "text": [
      "1000\n",
      "븅신원준아\n"
     ]
    }
   ],
   "source": [
    "# 예제 1 21 지수 곱 함수만들기\n",
    "def calcul(a,b):\n",
    "    result = a**b\n",
    "    return result\n",
    "\n",
    "test = calcul(10,3)\n",
    "print(test)        \n",
    "\n",
    "\n",
    "def sinwon(fuck, you):\n",
    "    king = fuck + you\n",
    "    return king\n",
    "\n",
    "wang = sinwon(\"븅신\",\"원준아\")\n",
    "print(wang)"
   ]
  }
 ],
 "metadata": {
  "kernelspec": {
   "display_name": "Python 3 (ipykernel)",
   "language": "python",
   "name": "python3"
  },
  "language_info": {
   "codemirror_mode": {
    "name": "ipython",
    "version": 3
   },
   "file_extension": ".py",
   "mimetype": "text/x-python",
   "name": "python",
   "nbconvert_exporter": "python",
   "pygments_lexer": "ipython3",
   "version": "3.11.5"
  }
 },
 "nbformat": 4,
 "nbformat_minor": 2
}
