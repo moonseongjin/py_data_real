{
 "cells": [
  {
   "cell_type": "markdown",
   "metadata": {},
   "source": [
    "# 6.3  다나와 크롤링 데이터 전처리"
   ]
  },
  {
   "cell_type": "markdown",
   "metadata": {},
   "source": [
    "### 6.3.1 다나와 크롤링 데이터 불러오기 "
   ]
  },
  {
   "cell_type": "code",
   "execution_count": 4,
   "metadata": {},
   "outputs": [
    {
     "name": "stdout",
     "output_type": "stream",
     "text": [
      "<class 'pandas.core.frame.DataFrame'>\n",
      "RangeIndex: 420 entries, 0 to 419\n",
      "Data columns (total 3 columns):\n",
      " #   Column  Non-Null Count  Dtype \n",
      "---  ------  --------------  ----- \n",
      " 0   상품명     400 non-null    object\n",
      " 1   스펙 목록   400 non-null    object\n",
      " 2   가격      420 non-null    int64 \n",
      "dtypes: int64(1), object(2)\n",
      "memory usage: 10.0+ KB\n"
     ]
    },
    {
     "data": {
      "text/html": [
       "<div>\n",
       "<style scoped>\n",
       "    .dataframe tbody tr th:only-of-type {\n",
       "        vertical-align: middle;\n",
       "    }\n",
       "\n",
       "    .dataframe tbody tr th {\n",
       "        vertical-align: top;\n",
       "    }\n",
       "\n",
       "    .dataframe thead th {\n",
       "        text-align: right;\n",
       "    }\n",
       "</style>\n",
       "<table border=\"1\" class=\"dataframe\">\n",
       "  <thead>\n",
       "    <tr style=\"text-align: right;\">\n",
       "      <th></th>\n",
       "      <th>상품명</th>\n",
       "      <th>스펙 목록</th>\n",
       "      <th>가격</th>\n",
       "    </tr>\n",
       "  </thead>\n",
       "  <tbody>\n",
       "    <tr>\n",
       "      <th>0</th>\n",
       "      <td>LG전자 오브제컬렉션 코드제로 A9S AX9884</td>\n",
       "      <td>핸디스틱청소기 / \\t\\t\\t\\t\\t\\t\\t\\t\\t\\t\\t\\t\\t\\t\\t\\t\\t\\t...</td>\n",
       "      <td>855210</td>\n",
       "    </tr>\n",
       "    <tr>\n",
       "      <th>1</th>\n",
       "      <td>삼성전자 비스포크 제트 VS20B956AX</td>\n",
       "      <td>핸디스틱청소기 / \\t\\t\\t\\t\\t\\t\\t\\t\\t\\t\\t\\t\\t\\t\\t\\t\\t\\t...</td>\n",
       "      <td>450370</td>\n",
       "    </tr>\n",
       "    <tr>\n",
       "      <th>2</th>\n",
       "      <td>샤오미 미홀 M22</td>\n",
       "      <td>핸디스틱청소기 / \\t\\t\\t\\t\\t\\t\\t\\t\\t\\t\\t\\t\\t\\t\\t\\t\\t\\t...</td>\n",
       "      <td>154220</td>\n",
       "    </tr>\n",
       "    <tr>\n",
       "      <th>3</th>\n",
       "      <td>LG전자 오브제컬렉션 코드제로 A9 AS9202WD</td>\n",
       "      <td>핸디스틱청소기 / \\t\\t\\t\\t\\t\\t\\t\\t\\t\\t\\t\\t\\t\\t\\t\\t\\t\\t...</td>\n",
       "      <td>453310</td>\n",
       "    </tr>\n",
       "    <tr>\n",
       "      <th>4</th>\n",
       "      <td>LG전자 오브제컬렉션 코드제로 A9S AX9984</td>\n",
       "      <td>핸디스틱청소기 / \\t\\t\\t\\t\\t\\t\\t\\t\\t\\t\\t\\t\\t\\t\\t\\t\\t\\t...</td>\n",
       "      <td>992930</td>\n",
       "    </tr>\n",
       "  </tbody>\n",
       "</table>\n",
       "</div>"
      ],
      "text/plain": [
       "                            상품명  \\\n",
       "0   LG전자 오브제컬렉션 코드제로 A9S AX9884   \n",
       "1       삼성전자 비스포크 제트 VS20B956AX   \n",
       "2                    샤오미 미홀 M22   \n",
       "3  LG전자 오브제컬렉션 코드제로 A9 AS9202WD   \n",
       "4   LG전자 오브제컬렉션 코드제로 A9S AX9984   \n",
       "\n",
       "                                               스펙 목록      가격  \n",
       "0  핸디스틱청소기 / \\t\\t\\t\\t\\t\\t\\t\\t\\t\\t\\t\\t\\t\\t\\t\\t\\t\\t...  855210  \n",
       "1  핸디스틱청소기 / \\t\\t\\t\\t\\t\\t\\t\\t\\t\\t\\t\\t\\t\\t\\t\\t\\t\\t...  450370  \n",
       "2  핸디스틱청소기 / \\t\\t\\t\\t\\t\\t\\t\\t\\t\\t\\t\\t\\t\\t\\t\\t\\t\\t...  154220  \n",
       "3  핸디스틱청소기 / \\t\\t\\t\\t\\t\\t\\t\\t\\t\\t\\t\\t\\t\\t\\t\\t\\t\\t...  453310  \n",
       "4  핸디스틱청소기 / \\t\\t\\t\\t\\t\\t\\t\\t\\t\\t\\t\\t\\t\\t\\t\\t\\t\\t...  992930  "
      ]
     },
     "execution_count": 4,
     "metadata": {},
     "output_type": "execute_result"
    }
   ],
   "source": [
    "# 예제 6-17 다나와 크롤링 결과 가져오기 \n",
    "import pandas as pd\n",
    "\n",
    "data = pd.read_excel('./files/3_1_danawa_crawling_result.xlsx')\n",
    "data.info()\n",
    "data.head()"
   ]
  },
  {
   "cell_type": "markdown",
   "metadata": {},
   "source": [
    "### 6.3.2 회사명, 모델명 정리 "
   ]
  },
  {
   "cell_type": "code",
   "execution_count": 5,
   "metadata": {},
   "outputs": [],
   "source": [
    "# NaN 값을 공백 문자열로 대체\n",
    "data['상품명'].fillna('', inplace=True)\n",
    "# 위 내용을 추가한 이유는 NaN일경우 NaN은 실제로 부동 소수점(float)으로 간주되며, 따라서 'split' 메서드를 사용할 수 없기 때문\n",
    "# fillna 메서드는 DataFrame에서 결측값을 원하는 값으로 변경하는 메서드입니다.\n",
    "\n",
    "\n",
    "#예제 6-18 회사명 + 모델명 분리\n",
    "company_list = []\n",
    "product_list = []\n",
    "for title in data['상품명']:\n",
    "    title_info = title.split(' ', 1)\n",
    "    company_name = title_info[0]\n",
    "    product_name = title_info[1] if len(title_info) > 1 else ''  # title_info의 길이가 1보다 크면 product_name으로 할당\n",
    "    company_list.append(company_name)\n",
    "    product_list.append(product_name)\n"
   ]
  },
  {
   "cell_type": "markdown",
   "metadata": {},
   "source": [
    "### 6.3.4 스펙 목록에서 카테고리, 사용시간, 흡입력을 추출해서 정리\n"
   ]
  },
  {
   "cell_type": "code",
   "execution_count": 6,
   "metadata": {},
   "outputs": [
    {
     "name": "stdout",
     "output_type": "stream",
     "text": [
      "['핸디스틱청소기', '무선', '흡입+물걸레(동시)', '흡입력: 250W', '소비전력: 620W', '2023년형', '[구성] 거치대: 올인원타워', '먼지비움', '충전', 'UVC LED', '액서서리수납', '스탠드거치', '먼지비움시간: 30초', '브러쉬: 와이드바닥', '물걸레: 스팀, 고온, 일반', '솔형', '틈새', '먼지봉투: 2.5L', '[배터리] 사용시간: 30분(최대)', '충전시간: 4시간', '분리형(2개)', '리튬이온', '25.2V', '[청소] 싸이클론흡입', 'LED라이트', '자동물공급', '스마트인버터모터', '[부가] 스마트폰제어', '대화형알림창', '워셔블헤파필터', '5단계여과', '색상: 카밍베이지', '무게: 2.47kg', '크기(가로x세로x깊이): 300x1120x245mm']\n"
     ]
    }
   ],
   "source": [
    "# 예제 6-19 첫 번째 제품의 스펙 목록 분리\n",
    "spec_list = [spec.replace('\\t', '') for spec in data['스펙 목록'][0].split(' / ')]\n",
    "print(spec_list)\n"
   ]
  },
  {
   "cell_type": "code",
   "execution_count": 7,
   "metadata": {},
   "outputs": [
    {
     "data": {
      "text/plain": [
       "'핸디스틱청소기'"
      ]
     },
     "execution_count": 7,
     "metadata": {},
     "output_type": "execute_result"
    }
   ],
   "source": [
    "# 예제 6-20 카테고리 정보 추출\n",
    "category = spec_list[0] \n",
    "category "
   ]
  },
  {
   "cell_type": "code",
   "execution_count": 8,
   "metadata": {},
   "outputs": [
    {
     "name": "stdout",
     "output_type": "stream",
     "text": [
      "[배터리] 사용시간: 30분(최대)\n",
      "흡입력: 250W\n"
     ]
    }
   ],
   "source": [
    "# 예제 6-21 ‘사용시간’, ‘흡입력’이 포함된 원소 추출 \n",
    "for spec in spec_list:\n",
    "    if '사용시간' in spec: \n",
    "         use_time_spec = spec \n",
    "    elif '흡입력' in spec:\n",
    "        suction_spec = spec  \n",
    "print(use_time_spec)\n",
    "print(suction_spec)"
   ]
  },
  {
   "cell_type": "code",
   "execution_count": 9,
   "metadata": {},
   "outputs": [
    {
     "name": "stdout",
     "output_type": "stream",
     "text": [
      "사용시간:\n",
      "250W\n"
     ]
    }
   ],
   "source": [
    "# 예제 6-22 정량적인 수치 추출 \n",
    "use_time_value = use_time_spec.split(' ')[1].strip() \n",
    "suction_value = suction_spec.split(' ')[1].strip()\n",
    "print(use_time_value)\n",
    "print(suction_value)"
   ]
  },
  {
   "cell_type": "code",
   "execution_count": 10,
   "metadata": {},
   "outputs": [],
   "source": [
    "# NaN 값을 빈 문자열로 대체\n",
    "data['스펙 목록'].fillna('', inplace=True)\n",
    "\n",
    "# 예제 6-23 카테고리, 사용시간, 흡입력 추출 \n",
    "category_list = []\n",
    "use_time_list = []\n",
    "suction_list = [] \n",
    "\n",
    "for spec_data in data['스펙 목록']:\n",
    "    # ' / ' 기준으로 스펙 분리하기 \n",
    "    spec_list = spec_data.split(' / ')\n",
    "    \n",
    "    # 카테고리 추출하기\n",
    "    category = spec_list[0] \n",
    "    category_list.append(category)\n",
    "    \n",
    "    # 사용시간, 흡입력 추출 \n",
    "    ## 사용시간, 흡입력 정보가 없는 제품을 위해 변수를 생성 \n",
    "    use_time_value = None \n",
    "    suction_value = None \n",
    "    \n",
    "    ## spec_list의 각 원소에서 사용시간, 흡입력 수치 추출\n",
    "    for spec in spec_list:\n",
    "        if '사용시간' in spec: \n",
    "            use_time_value = spec.split(' ')[1].strip()             \n",
    "        if '흡입력' in spec:\n",
    "            suction_value = spec.split(' ')[1].strip() \n",
    "    use_time_list.append(use_time_value)\n",
    "    suction_list.append(suction_value)"
   ]
  },
  {
   "cell_type": "code",
   "execution_count": 11,
   "metadata": {},
   "outputs": [
    {
     "name": "stdout",
     "output_type": "stream",
     "text": [
      "카테고리 420 ['핸디스틱청소기', '핸디스틱청소기', '핸디스틱청소기', '핸디스틱청소기', '핸디스틱청소기']\n",
      "사용시간 420 ['사용시간:', '사용시간:', None, '사용시간:', '사용시간:']\n",
      "흡입력 7 41000\n"
     ]
    }
   ],
   "source": [
    "# 예제 6-24 카테고리, 사용시간, 흡입력에 대한 전처리 결과 확인\n",
    "print(\"카테고리\", len(category_list), category_list[0:5])\n",
    "print(\"사용시간\", len(use_time_list), use_time_list[0:5])\n",
    "print(\"흡입력\", len(suction_value), suction_value[0:5])"
   ]
  },
  {
   "cell_type": "markdown",
   "metadata": {},
   "source": [
    "### 6.3.5 무선청소기 사용시간 단위 통일시키기"
   ]
  },
  {
   "cell_type": "code",
   "execution_count": 12,
   "metadata": {},
   "outputs": [],
   "source": [
    "# 예제 6-25 사용시간을 분 단위로 조정하는 함수\n",
    "def convert_time_minute(time):\n",
    "    try:\n",
    "        if '시간' in time:\n",
    "            hour = time.split('시간')[0]\n",
    "            if '분' in time:\n",
    "                minute = time.split('시간')[-1].split('분')[0]\n",
    "                # 마지막 멘트에 '분'이라는 글자가 있으면\n",
    "            else:\n",
    "                minute = 0\n",
    "        else: \n",
    "            hour = 0\n",
    "            minute = time.split('분')[0]\n",
    "        return int(hour)*60 + int(minute)\n",
    "    except:\n",
    "        return None                "
   ]
  },
  {
   "cell_type": "code",
   "execution_count": 13,
   "metadata": {},
   "outputs": [
    {
     "name": "stdout",
     "output_type": "stream",
     "text": [
      "40분 = 40\n",
      "4분 = 4\n",
      "1시간 = 60\n",
      "3시간30분 = 210\n",
      "4시간 = 240\n"
     ]
    }
   ],
   "source": [
    "# 예제 6-26 사용시간을 분 단위로 조정하는 함수의 테스트\n",
    "times = [\"40분\", \"4분\", \"1시간\", \"3시간30분\", \"4시간\"]\n",
    "for time in times:\n",
    "    time_value = convert_time_minute(time)\n",
    "    print(time, \"=\", time_value)"
   ]
  },
  {
   "cell_type": "code",
   "execution_count": 14,
   "metadata": {},
   "outputs": [],
   "source": [
    "# 예제 6-27 모델별 사용시간을 분 단위로 통일하기\n",
    "new_use_time_list = []\n",
    "for time in use_time_list:\n",
    "    value = convert_time_minute(time)\n",
    "    new_use_time_list.append(value)"
   ]
  },
  {
   "cell_type": "markdown",
   "metadata": {},
   "source": [
    "### 6.3.6 무선 청소기 흡입력 단위 통일시키기"
   ]
  },
  {
   "cell_type": "code",
   "execution_count": 15,
   "metadata": {},
   "outputs": [],
   "source": [
    "# 예제 6-28 흡입력 단위를 통일시키는 함수\n",
    "# AW, W, PA는 흡입력 단위 | 1W = 1AW = 100PA 따라서 PA만 100으로 나눈겨\n",
    "def get_suction(value):\n",
    "    try:\n",
    "        value = value.upper()\n",
    "        if \"AW\" in value or \"W\" in value:\n",
    "            result = value.replace(\"A\", \"\").replace(\"W\",\"\")\n",
    "            result = int(result.replace(\",\",\"\"))\n",
    "            # 인트로 변환후 글자 삭제.\n",
    "        elif \"PA\" in value:\n",
    "            result = value.replace(\"PA\",\"\")\n",
    "            result = int(result.replace(\",\",\"\"))/100\n",
    "            # 인트로 변환 + 100으로 나누기 + 글자 삭제\n",
    "        else:\n",
    "            result = None\n",
    "        return result\n",
    "    except:\n",
    "        return None"
   ]
  },
  {
   "cell_type": "code",
   "execution_count": 18,
   "metadata": {},
   "outputs": [],
   "source": [
    "# 예제 6-29 흡입력 단위 통일시키기\n",
    "new_suction_list = []\n",
    "for power in suction_list:\n",
    "    value = get_suction (power)\n",
    "    new_suction_list.append(value)"
   ]
  },
  {
   "cell_type": "markdown",
   "metadata": {},
   "source": [
    "### 6.3.7 다나와 전처리 결과를 엑셀로 저장\n"
   ]
  },
  {
   "cell_type": "code",
   "execution_count": 17,
   "metadata": {},
   "outputs": [
    {
     "data": {
      "text/html": [
       "<div>\n",
       "<style scoped>\n",
       "    .dataframe tbody tr th:only-of-type {\n",
       "        vertical-align: middle;\n",
       "    }\n",
       "\n",
       "    .dataframe tbody tr th {\n",
       "        vertical-align: top;\n",
       "    }\n",
       "\n",
       "    .dataframe thead th {\n",
       "        text-align: right;\n",
       "    }\n",
       "</style>\n",
       "<table border=\"1\" class=\"dataframe\">\n",
       "  <thead>\n",
       "    <tr style=\"text-align: right;\">\n",
       "      <th></th>\n",
       "      <th>카테고리</th>\n",
       "      <th>회사명</th>\n",
       "      <th>제품</th>\n",
       "      <th>가격</th>\n",
       "      <th>사용시간</th>\n",
       "      <th>흡입력</th>\n",
       "    </tr>\n",
       "  </thead>\n",
       "  <tbody>\n",
       "    <tr>\n",
       "      <th>0</th>\n",
       "      <td>핸디스틱청소기</td>\n",
       "      <td>LG전자</td>\n",
       "      <td>오브제컬렉션 코드제로 A9S AX9884</td>\n",
       "      <td>855210</td>\n",
       "      <td>NaN</td>\n",
       "      <td>250.0</td>\n",
       "    </tr>\n",
       "    <tr>\n",
       "      <th>1</th>\n",
       "      <td>핸디스틱청소기</td>\n",
       "      <td>삼성전자</td>\n",
       "      <td>비스포크 제트 VS20B956AX</td>\n",
       "      <td>450370</td>\n",
       "      <td>NaN</td>\n",
       "      <td>220.0</td>\n",
       "    </tr>\n",
       "    <tr>\n",
       "      <th>2</th>\n",
       "      <td>핸디스틱청소기</td>\n",
       "      <td>샤오미</td>\n",
       "      <td>미홀 M22</td>\n",
       "      <td>154220</td>\n",
       "      <td>NaN</td>\n",
       "      <td>NaN</td>\n",
       "    </tr>\n",
       "    <tr>\n",
       "      <th>3</th>\n",
       "      <td>핸디스틱청소기</td>\n",
       "      <td>LG전자</td>\n",
       "      <td>오브제컬렉션 코드제로 A9 AS9202WD</td>\n",
       "      <td>453310</td>\n",
       "      <td>NaN</td>\n",
       "      <td>210.0</td>\n",
       "    </tr>\n",
       "    <tr>\n",
       "      <th>4</th>\n",
       "      <td>핸디스틱청소기</td>\n",
       "      <td>LG전자</td>\n",
       "      <td>오브제컬렉션 코드제로 A9S AX9984</td>\n",
       "      <td>992930</td>\n",
       "      <td>NaN</td>\n",
       "      <td>250.0</td>\n",
       "    </tr>\n",
       "  </tbody>\n",
       "</table>\n",
       "</div>"
      ],
      "text/plain": [
       "      카테고리   회사명                       제품      가격  사용시간    흡입력\n",
       "0  핸디스틱청소기  LG전자   오브제컬렉션 코드제로 A9S AX9884  855210   NaN  250.0\n",
       "1  핸디스틱청소기  삼성전자       비스포크 제트 VS20B956AX  450370   NaN  220.0\n",
       "2  핸디스틱청소기   샤오미                   미홀 M22  154220   NaN    NaN\n",
       "3  핸디스틱청소기  LG전자  오브제컬렉션 코드제로 A9 AS9202WD  453310   NaN  210.0\n",
       "4  핸디스틱청소기  LG전자   오브제컬렉션 코드제로 A9S AX9984  992930   NaN  250.0"
      ]
     },
     "execution_count": 17,
     "metadata": {},
     "output_type": "execute_result"
    }
   ],
   "source": [
    "# 예제 6-30 전처리 데이터 확인\n",
    "pd_data = pd.DataFrame()\n",
    "pd_data['카테고리'] = category_list\n",
    "pd_data['회사명'] = company_list\n",
    "pd_data['제품'] = product_list\n",
    "pd_data['가격'] = data['가격']\n",
    "pd_data['사용시간'] = new_use_time_list\n",
    "pd_data['흡입력'] = new_suction_list\n",
    "pd_data.head()"
   ]
  },
  {
   "cell_type": "code",
   "execution_count": 21,
   "metadata": {},
   "outputs": [
    {
     "data": {
      "text/plain": [
       "카테고리\n",
       "핸디스틱청소기            352\n",
       "                    20\n",
       "욕실청소기               17\n",
       "핸디스틱청소기+로봇청소기       15\n",
       "스틱청소기                8\n",
       "탁상용청소기               4\n",
       "창문청소기                2\n",
       "핸디스틱청소기+공기청정기세트      1\n",
       "신발세척기                1\n",
       "Name: count, dtype: int64"
      ]
     },
     "execution_count": 21,
     "metadata": {},
     "output_type": "execute_result"
    }
   ],
   "source": [
    "# 예제 6-31 카테고리 분류 기준 및 데이터 개수 점검\n",
    "pd_data['카테고리'].value_counts() "
   ]
  },
  {
   "cell_type": "code",
   "execution_count": 23,
   "metadata": {},
   "outputs": [
    {
     "data": {
      "text/plain": [
       "352"
      ]
     },
     "execution_count": 23,
     "metadata": {},
     "output_type": "execute_result"
    }
   ],
   "source": [
    "# 예제 6-32 핸디/스틱청소기만 선택\n",
    "pd_data_final = pd_data[pd_data['카테고리'].isin(['핸디스틱청소기'])]\n",
    "len(pd_data_final)"
   ]
  },
  {
   "cell_type": "code",
   "execution_count": 25,
   "metadata": {},
   "outputs": [],
   "source": [
    "# 예제 6-33 엑셀로 저장\n",
    "pd_data_final.to_excel('./files/3_2_danawa_data_final.xlsx', index = False)"
   ]
  },
  {
   "cell_type": "code",
   "execution_count": null,
   "metadata": {},
   "outputs": [],
   "source": []
  }
 ],
 "metadata": {
  "kernelspec": {
   "display_name": "Python 3 (ipykernel)",
   "language": "python",
   "name": "python3"
  },
  "language_info": {
   "codemirror_mode": {
    "name": "ipython",
    "version": 3
   },
   "file_extension": ".py",
   "mimetype": "text/x-python",
   "name": "python",
   "nbconvert_exporter": "python",
   "pygments_lexer": "ipython3",
   "version": "3.11.5"
  }
 },
 "nbformat": 4,
 "nbformat_minor": 2
}
