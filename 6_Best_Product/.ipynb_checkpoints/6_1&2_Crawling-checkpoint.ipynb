{
 "cells": [
  {
   "cell_type": "markdown",
   "metadata": {},
   "source": [
    "# 6.1  데이터 수집 1 – 한 페이지 크롤링"
   ]
  },
  {
   "cell_type": "markdown",
   "metadata": {},
   "source": [
    "### 6.1.2 다나와 검색 페이지 접속"
   ]
  },
  {
   "cell_type": "code",
   "execution_count": 7,
   "metadata": {},
   "outputs": [],
   "source": [
    "# 예제 6-1 selenium으로 다나와 검색 결과 URL에 접속\n",
    "from selenium import webdriver\n",
    "driver = webdriver.Chrome()\n",
    "url = \"http://search.danawa.com/dsearch.php?query=무선청소기&tab=main\"\n",
    "driver.get(url)"
   ]
  },
  {
   "cell_type": "markdown",
   "metadata": {},
   "source": [
    "### 6.1.3 다나와 검색 웹 페이지에서 상품 정보 가져오기"
   ]
  },
  {
   "cell_type": "code",
   "execution_count": 8,
   "metadata": {},
   "outputs": [],
   "source": [
    "from bs4 import BeautifulSoup\n",
    "\n",
    "#예제 6-2 웹 페이지의 HTML 정보 가져오기\n",
    "html = driver.page_source\n",
    "soup = BeautifulSoup(html, 'html.parser')"
   ]
  },
  {
   "cell_type": "code",
   "execution_count": 9,
   "metadata": {},
   "outputs": [
    {
     "data": {
      "text/plain": [
       "42"
      ]
     },
     "execution_count": 9,
     "metadata": {},
     "output_type": "execute_result"
    }
   ],
   "source": [
    "# 예제 6-3 1페이지에 대한 무선청소기 정보 가져오기 1\n",
    "prod_items = soup.select('li.prod_item')\n",
    "len(prod_items)"
   ]
  },
  {
   "cell_type": "code",
   "execution_count": 10,
   "metadata": {
    "scrolled": true
   },
   "outputs": [
    {
     "data": {
      "text/plain": [
       "42"
      ]
     },
     "execution_count": 10,
     "metadata": {},
     "output_type": "execute_result"
    }
   ],
   "source": [
    "# 예제 6-4 1페이지에 대한 무선청소기 정보 가져오기 2\n",
    "prod_items = soup.select('ul.product_list > li.prod_item')\n",
    "len(prod_items)"
   ]
  },
  {
   "cell_type": "code",
   "execution_count": 14,
   "metadata": {},
   "outputs": [
    {
     "data": {
      "text/plain": [
       "42"
      ]
     },
     "execution_count": 14,
     "metadata": {},
     "output_type": "execute_result"
    }
   ],
   "source": [
    "# 예제 6-5 1페이지에 대한 무선청소기 정보 가져오기 3\n",
    "prod_items = soup.select('div.main_prodlist > ul.product_list > li.prod_item')\n",
    "len(prod_items)"
   ]
  },
  {
   "cell_type": "code",
   "execution_count": 16,
   "metadata": {},
   "outputs": [
    {
     "name": "stdout",
     "output_type": "stream",
     "text": [
      "LG전자 오브제컬렉션 코드제로 A9S AX9884\n"
     ]
    }
   ],
   "source": [
    "# 예제 6-6 상품명 정보 가져오기\n",
    "title = prod_items[0].select('p.prod_name > a')[0].text.strip()\n",
    "print(title)"
   ]
  },
  {
   "cell_type": "code",
   "execution_count": 17,
   "metadata": {},
   "outputs": [
    {
     "name": "stdout",
     "output_type": "stream",
     "text": [
      "핸디스틱청소기 / \t\t\t\t\t\t\t\t\t\t\t\t\t\t\t\t\t\t\t\t\t\t\t\t\t\t\t무선 / \t\t\t\t\t\t\t\t\t\t\t\t\t\t\t\t\t\t\t\t\t\t\t\t\t\t\t흡입+물걸레(동시) / \t\t\t\t\t\t\t\t\t\t\t\t\t\t\t\t\t\t\t\t\t\t\t\t\t\t\t흡입력: \t\t\t\t\t\t\t\t\t\t\t\t250W / \t\t\t\t\t\t\t\t\t\t\t\t\t\t\t소비전력: \t\t\t\t\t\t\t\t\t\t\t\t620W / 2023년형 / [구성] 거치대: \t\t\t\t\t\t\t\t\t\t\t\t\t\t\t올인원타워 / \t\t\t\t\t\t\t\t\t\t\t\t\t\t\t\t\t\t\t\t\t\t\t\t\t\t\t먼지비움 / \t\t\t\t\t\t\t\t\t\t\t\t\t\t\t\t\t\t\t\t\t\t\t\t\t\t\t충전 / \t\t\t\t\t\t\t\t\t\t\t\t\t\t\t\t\t\t\t\t\t\t\t\t\t\t\tUVC LED / \t\t\t\t\t\t\t\t\t\t\t\t\t\t\t\t\t\t\t\t\t\t\t\t\t\t\t액서서리수납 / \t\t\t\t\t\t\t\t\t\t\t\t\t\t\t\t\t\t\t\t\t\t\t\t\t\t\t스탠드거치 / \t\t\t\t\t\t\t\t\t\t\t\t\t\t\t\t\t\t\t\t\t\t\t\t\t\t\t먼지비움시간: \t\t\t\t\t\t\t\t\t\t\t\t\t\t\t\t\t\t\t\t\t\t\t\t\t\t\t30초 / \t\t\t\t\t\t\t\t\t\t\t\t브러쉬: \t\t\t\t\t\t\t\t\t\t\t\t\t\t\t와이드바닥 / \t\t\t\t\t\t\t\t\t\t\t\t물걸레: \t\t\t\t\t\t\t\t\t\t\t\t\t\t\t스팀, \t\t\t\t\t\t\t\t\t\t\t\t\t\t\t\t\t\t\t\t\t\t\t\t\t\t\t고온, \t\t\t\t\t\t\t\t\t\t\t\t\t\t\t\t\t\t\t\t\t\t\t\t\t\t\t일반 / \t\t\t\t\t\t\t\t\t\t\t\t\t\t\t\t\t\t\t\t\t\t\t\t\t\t\t솔형 / \t\t\t\t\t\t\t\t\t\t\t\t\t\t\t\t\t\t\t\t\t\t\t\t\t\t\t틈새 / \t\t\t\t\t\t\t\t\t\t\t\t\t\t\t\t\t\t\t\t\t\t\t\t\t\t\t먼지봉투: \t\t\t\t\t\t\t\t\t\t\t\t\t\t\t\t\t\t\t\t\t\t\t\t\t\t\t2.5L / \t\t\t\t\t\t\t\t\t\t\t\t[배터리] 사용시간: \t\t\t\t\t\t\t\t\t\t\t\t30분(최대) / \t\t\t\t\t\t\t\t\t\t\t\t\t\t\t충전시간: \t\t\t\t\t\t\t\t\t\t\t\t4시간 / \t\t\t\t\t\t\t\t\t\t\t\t\t\t\t분리형(2개) / \t\t\t\t\t\t\t\t\t\t\t\t\t\t\t\t\t\t\t\t\t\t\t\t\t\t\t리튬이온 / \t\t\t\t\t\t\t\t\t\t\t\t\t\t\t\t\t\t\t\t\t\t\t\t\t\t\t25.2V / \t\t\t\t\t\t\t\t\t\t\t\t[청소] 싸이클론흡입 / \t\t\t\t\t\t\t\t\t\t\t\t\t\t\t\t\t\t\t\t\t\t\t\t\t\t\tLED라이트 / \t\t\t\t\t\t\t\t\t\t\t\t\t\t\t\t\t\t\t\t\t\t\t\t\t\t\t자동물공급 / \t\t\t\t\t\t\t\t\t\t\t\t\t\t\t\t\t\t\t\t\t\t\t\t\t\t\t스마트인버터모터 / \t\t\t\t\t\t\t\t\t\t\t\t[부가] 스마트폰제어 / \t\t\t\t\t\t\t\t\t\t\t\t\t\t\t\t\t\t\t\t\t\t\t\t\t\t\t대화형알림창 / \t\t\t\t\t\t\t\t\t\t\t\t\t\t\t\t\t\t\t\t\t\t\t\t\t\t\t워셔블헤파필터 / \t\t\t\t\t\t\t\t\t\t\t\t\t\t\t\t\t\t\t\t\t\t\t\t\t\t\t5단계여과 / \t\t\t\t\t\t\t\t\t\t\t\t\t\t\t\t\t\t\t\t\t\t\t\t\t\t\t색상: \t\t\t\t\t\t\t\t\t\t\t\t카밍베이지 / \t\t\t\t\t\t\t\t\t\t\t\t\t\t\t무게: \t\t\t\t\t\t\t\t\t\t\t\t2.47kg / 크기(가로x세로x깊이): 300x1120x245mm\n"
     ]
    }
   ],
   "source": [
    "# 예제 6-7 스펙 목록 정보 가져오기\n",
    "spec_list = prod_items[0].select('div.spec_list')[0].text.strip()\n",
    "print(spec_list)"
   ]
  },
  {
   "cell_type": "code",
   "execution_count": 18,
   "metadata": {},
   "outputs": [
    {
     "name": "stdout",
     "output_type": "stream",
     "text": [
      "855210\n"
     ]
    }
   ],
   "source": [
    "# 예제 6-8 가격 정보 가져오기\n",
    "price = prod_items[0].select('li.rank_one > p.price_sect > a > strong')[0].text.strip().replace(\",\",\"\")\n",
    "print(price)"
   ]
  },
  {
   "cell_type": "code",
   "execution_count": 19,
   "metadata": {},
   "outputs": [
    {
     "name": "stdout",
     "output_type": "stream",
     "text": [
      "42\n",
      "[['LG전자 오브제컬렉션 코드제로 A9S AX9884', '핸디스틱청소기 / 무선 / 흡입+물걸레(동시) / 흡입력: 250W / 소비전력: 620W / 2023년형 / [구성] 거치대: 올인원타워 / 먼지비움 / 충전 / UVC LED / 액서서리수납 / 스탠드거치 / 먼지비움시간: 30초 / 브러쉬: 와이드바닥 / 물걸레: 스팀, 고온, 일반 / 솔형 / 틈새 / 먼지봉투: 2.5L / [배터리] 사용시간: 30분(최대) / 충전시간: 4시간 / 분리형(2개) / 리튬이온 / 25.2V / [청소] 싸이클론흡입 / LED라이트 / 자동물공급 / 스마트인버터모터 / [부가] 스마트폰제어 / 대화형알림창 / 워셔블헤파필터 / 5단계여과 / 색상: 카밍베이지 / 무게: 2.47kg / 크기(가로x세로x깊이): 300x1120x245mm', '855210'], ['삼성전자 비스포크 제트 VS20B956AX', '핸디스틱청소기 / 무선 / 흡입형 / 흡입력: 220W / 2022년형 / [구성] 거치대: 청정스테이션 / 먼지비움 / 충전 / UVC LED / 스탠드거치 / 먼지비움시간: 14초 / 브러쉬: 바닥 / 물걸레: 별매 / 솔형 / 틈새 / 연장관 / 먼지봉투: 1.2L / [배터리] 사용시간: 1시간(최대) / 충전시간: 3시간30분 / 분리형(1개) / 리튬이온 / 2200mAh / 25.2V / [청소] 싸이클론흡입 / LED라이트 / 디지털인버터모터 / 먼지통: 0.5L / [부가] 스마트폰제어 / 대화형알림창 / 디스플레이표시 / 배터리잔량표시 / 항균물통 / 워셔블헤파필터 / 5단계여과 / 색상: 페블그레이 / 크기(가로x세로x깊이): 250x930x202mm', '450380'], ['샤오미 미홀 M22', '핸디스틱청소기 / 무선 / 흡입형 / 소비전력: 320W / 2023년형 / [구성] 벽걸이거치 / 브러쉬: 바닥 / 물걸레: 별매 / 침구 / 솔형 / 틈새 / [배터리] 충전시간: 5시간 / 분리형(1개) / 2600mAh / [청소] LED라이트 / BLDC모터 / 먼지통: 0.6L / [부가] 워셔블헤파필터 / 무게: 1.5kg / 크기(가로x세로x깊이): 240x1040x204mm', '154220'], ['LG전자 오브제컬렉션 코드제로 A9 AS9202WD', '핸디스틱청소기 / 무선 / 흡입형 / 흡입력: 210W / 소비전력: 590W / 2023년형 / [구성] 스탠드거치 / 브러쉬: 바닥 / 물걸레: 별매 / 솔형 / 틈새 / [배터리] 사용시간: 1시간(최대) / 충전시간: 4시간 / 분리형(1개) / 리튬이온 / 25.2V / [청소] 싸이클론흡입 / 스마트인버터모터 / [부가] 디스플레이표시 / 배터리잔량표시 / 헤파필터 / 5단계여과 / 색상: 카밍베이지 / 무게: 2.5kg / 크기(가로x세로x깊이): 250x1120x260mm', '453310'], ['LG전자 오브제컬렉션 코드제로 A9S AX9984', '핸디스틱청소기 / 무선 / 흡입+물걸레(동시) / 흡입력: 250W / 소비전력: 620W / 2023년형 / [구성] 거치대: 올인원타워 / 먼지비움 / 충전 / UVC LED / 액서서리수납 / 스탠드거치 / 먼지비움시간: 30초 / 브러쉬: 와이드바닥 / 물걸레: 스팀, 고온, 일반 / 침구 / 솔형 / 틈새 / 먼지봉투: 2.5L / [배터리] 사용시간: 30분(최대) / 충전시간: 4시간 / 분리형(2개) / 리튬이온 / 25.2V / [청소] 싸이클론흡입 / LED라이트 / 자동물공급 / 스마트인버터모터 / [부가] 스마트폰제어 / 대화형알림창 / 워셔블헤파필터 / 5단계여과 / 색상: 카밍베이지 / 무게: 2.47kg / 크기(가로x세로x깊이): 300x1120x245mm', '992940'], ['', '', 0], ['LG전자 오브제컬렉션 코드제로 A9S AX9604', '핸디스틱청소기 / 무선 / 흡입형 / 흡입력: 250W / 소비전력: 620W / 2023년형 / [구성] 거치대: 올인원타워 / 먼지비움 / 충전 / UVC LED / 액서서리수납 / 스탠드거치 / 먼지비움시간: 30초 / 브러쉬: 와이드바닥 / 물걸레: 별매 / 솔형 / 틈새 / 먼지봉투: 2.5L / [배터리] 사용시간: 30분(최대) / 충전시간: 4시간 / 분리형(1개) / 리튬이온 / 25.2V / [청소] 싸이클론흡입 / LED라이트 / 스마트인버터모터 / [부가] 스마트폰제어 / 대화형알림창 / 워셔블헤파필터 / 5단계여과 / 색상: 카밍베이지 / 무게: 2.47kg / 크기(가로x세로x깊이): 300x1120x245mm', '700050'], ['LG전자 오브제컬렉션 코드제로 A9S AX9988', '핸디스틱청소기 / 무선 / 흡입+물걸레(동시) / 흡입력: 280W / 소비전력: 677W / 2023년형 / [구성] 거치대: 올인원타워 / 먼지비움 / 충전 / UVC LED / 액서서리수납 / 스탠드거치 / 먼지비움시간: 30초 / 브러쉬: 와이드바닥 / 물걸레: 스팀, 고온, 일반 / 침구 / 솔형 / 틈새 / 먼지봉투: 2.5L / [배터리] 사용시간: 1시간(최대) / 충전시간: 4시간 / 분리형(2개) / 리튬이온 / 25.2V / [청소] 싸이클론흡입 / LED라이트 / 자동물공급 / 스마트인버터모터 / [부가] 스마트폰제어 / 대화형알림창 / 워셔블헤파필터 / 5단계여과 / 색상: 카밍베이지 / 무게: 2.47kg / 크기(가로x세로x깊이): 300x1120x245mm', '1222500'], ['삼성전자 비스포크 제트 AI VS25C970DW', '핸디스틱청소기 / 무선 / 흡입+물걸레(교체) / 흡입력: 250W / 2023년형 / [구성] 거치대: 청정스테이션 / 먼지비움 / 싸이클론비움 / 충전 / UVC LED / 스탠드거치 / 먼지비움시간: 14초 / 브러쉬: 바닥 / 물걸레: 일반 / 솔형 / 틈새 / 먼지봉투: 1.2L / [배터리] 사용시간: 1시간(최대) / 충전시간: 3시간30분 / 분리형(1개) / 리튬이온 / 2200mAh / 25.2V / [청소] 싸이클론흡입 / AI청소 / LED라이트 / 물분사 / 먼지감지센서 / 디지털인버터모터 / 먼지통: 0.5L / [부가] 스마트폰제어 / 대화형알림창 / 배터리잔량표시 / 항균물통 / 워셔블헤파필터 / 5단계여과 / 색상: 새틴베이지 / 크기(가로x세로x깊이): 250x942x243mm / 출시가: 1,290,900원', '616890'], ['LG전자 오브제컬렉션 코드제로 A9 AU9272WD', '핸디스틱청소기 / 무선 / 흡입+물걸레(동시) / 흡입력: 220W / 소비전력: 590W / 2023년형 / [구성] 거치대: 올인원타워 / 먼지비움 / 충전 / 액서서리수납 / 스탠드거치 / 먼지비움시간: 60초 / 브러쉬: 바닥 / 물걸레: 일반 / 솔형 / 틈새 / 먼지봉투: 2.5L / [배터리] 사용시간: 1시간(최대) / 충전시간: 4시간 / 분리형(1개) / 리튬이온 / 25.2V / [청소] 싸이클론흡입 / 자동물공급 / 스마트인버터모터 / [부가] 디스플레이표시 / 워셔블헤파필터 / 5단계여과 / 색상: 카밍베이지 / 무게: 2.5kg / 크기(가로x세로x깊이): 250x1120x260mm', '612120'], ['LG전자 오브제컬렉션 코드제로 A9 AU9202WD', '핸디스틱청소기 / 무선 / 흡입형 / 흡입력: 220W / 소비전력: 590W / 2023년형 / [구성] 거치대: 올인원타워 / 먼지비움 / 충전 / 액서서리수납 / 스탠드거치 / 먼지비움시간: 60초 / 브러쉬: 바닥 / 물걸레: 별매 / 솔형 / 틈새 / 먼지봉투: 2.5L / [배터리] 사용시간: 1시간(최대) / 충전시간: 4시간 / 분리형(1개) / 리튬이온 / 25.2V / [청소] 싸이클론흡입 / 스마트인버터모터 / [부가] 디스플레이표시 / 배터리잔량표시 / 헤파필터 / 5단계여과 / 색상: 카밍베이지 / 무게: 2.5kg / 크기(가로x세로x깊이): 250x1120x260mm', '567880'], ['', '', 0], ['삼성전자 비스포크 제트 VS20B956D5', '핸디스틱청소기 / 무선 / 흡입+물걸레(교체) / 흡입력: 220W / 2022년형 / [구성] 거치대: 청정스테이션 / 먼지비움 / 충전 / UVC LED / 스탠드거치 / 먼지비움시간: 14초 / 브러쉬: 바닥 / 물걸레: 일반 / 솔형 / 틈새 / 연장관 / 먼지봉투: 1.2L / [배터리] 사용시간: 1시간(최대) / 충전시간: 3시간30분 / 분리형(1개) / 리튬이온 / 2200mAh / 25.2V / [청소] 싸이클론흡입 / LED라이트 / 자동물공급 / 물분사 / 디지털인버터모터 / 먼지통: 0.5L / [부가] 스마트폰제어 / 대화형알림창 / 디스플레이표시 / 배터리잔량표시 / 항균물통 / 워셔블헤파필터 / 5단계여과 / 색상: 산토리니베이지 / 크기(가로x세로x깊이): 250x930x202mm', '534770'], ['LG전자 오브제컬렉션 코드제로 A9S AX9674', '핸디스틱청소기 / 무선 / 흡입+물걸레(동시) / 흡입력: 250W / 소비전력: 620W / 2023년형 / [구성] 거치대: 올인원타워 / 먼지비움 / 충전 / UVC LED / 액서서리수납 / 스탠드거치 / 먼지비움시간: 30초 / 브러쉬: 와이드바닥 / 물걸레: 일반 / 솔형 / 틈새 / 먼지봉투: 2.5L / [배터리] 사용시간: 30분(최대) / 충전시간: 4시간 / 분리형(1개) / 리튬이온 / 25.2V / [청소] 싸이클론흡입 / LED라이트 / 자동물공급 / 스마트인버터모터 / [부가] 스마트폰제어 / 대화형알림창 / 워셔블헤파필터 / 5단계여과 / 색상: 카밍베이지 / 무게: 2.47kg / 크기(가로x세로x깊이): 300x1120x245mm', '779870'], ['드리미 V11', '핸디스틱청소기 / 무선 / 흡입형 / 흡입력: 150AW / 흡입력: 25000Pa / 소비전력: 450W / [구성] 벽걸이거치 / 브러쉬: 바닥 / 물걸레: 별매 / 침구 / 솔형 / 틈새 / 연장관 / [배터리] 사용시간: 1시간30분(최대) / 충전시간: 4시간 / 3000mAh / 25.2V / [청소] 싸이클론흡입 / BLDC모터 / 먼지통: 0.5L / [부가] 디스플레이표시 / 워셔블헤파필터 / 5단계여과 / 색상: 레드 / 무게: 1.6kg / 크기(가로x세로): 202x1226mm', '180110'], ['다이슨 싸이클론 V10', '핸디스틱청소기 / 무선 / 흡입형 / 흡입력: 151AW / [구성] 충전 / 벽걸이거치 / 브러쉬: 바닥 / 펫 / 솔형 / 틈새 / [배터리] 사용시간: 1시간(최대) / 충전시간: 3시간30분 / 리튬이온 / [청소] 싸이클론흡입 / 디지털모터 / 먼지통: 0.5L / [부가] 프리볼트 / 헤파필터 / 색상: 레드 / 무게: 2.5kg / 크기(가로x세로x깊이): 242x1238x250mm', '439600'], ['DIBEA ALLNEW29000 PLUS', '핸디스틱청소기 / 무선 / 흡입형 / 흡입력: 167AW / 흡입력: 40000Pa / 소비전력: 500W / 2023년형 / [구성] 브러쉬: 바닥 / 물걸레: 별매 / 침구 / 솔형 / 틈새 / 카펫 / 연장관 / [배터리] 사용시간: 50분(최대) / 충전시간: 5시간 / 분리형(1개) / 리튬이온 / 2500mAh / 25.9V / [청소] LED라이트 / UV살균 / BLDC모터 / 먼지통: 0.68L / [부가] 디스플레이표시 / 배터리잔량표시 / 헤파필터 / 6단계여과 / 색상: 화이트 / 무게: 2.5kg / 분리형먼지통 / 크기(가로x세로x깊이): 245x1050~1275x210mm', '224100'], ['LG전자 오브제컬렉션 코드제로 A9S AX9888', '핸디스틱청소기 / 무선 / 흡입+물걸레(동시) / 흡입력: 280W / 소비전력: 677W / 2023년형 / [구성] 거치대: 올인원타워 / 먼지비움 / 충전 / 액서서리수납 / 스탠드거치 / 먼지비움시간: 30초 / 브러쉬: 와이드바닥 / 물걸레: 스팀, 고온, 일반 / 솔형 / 틈새 / 먼지봉투: 2.5L / [배터리] 사용시간: 30분(최대) / 충전시간: 4시간 / 분리형(2개) / 리튬이온 / 25.2V / [청소] 싸이클론흡입 / LED라이트 / 자동물공급 / 스마트인버터모터 / [부가] 스마트폰제어 / 대화형알림창 / 워셔블헤파필터 / 5단계여과 / 색상: 카밍베이지 / 무게: 2.47kg / 크기(가로x세로x깊이): 300x1120x245mm', '1012060'], ['LG전자 오브제컬렉션 코드제로 A9 AS9272WD', '핸디스틱청소기 / 무선 / 흡입+물걸레(동시) / 흡입력: 220W / 소비전력: 590W / 2023년형 / [구성] 충전 / 스탠드거치 / 브러쉬: 바닥 / 물걸레: 일반 / 솔형 / 틈새 / [배터리] 사용시간: 1시간(최대) / 충전시간: 4시간 / 분리형(1개) / 리튬이온 / 25.2V / [청소] 싸이클론흡입 / 자동물공급 / 스마트인버터모터 / [부가] 디스플레이표시 / 워셔블헤파필터 / 5단계여과 / 색상: 카밍베이지 / 무게: 2.5kg / 크기(가로x세로x깊이): 250x1120x260mm', '504220'], ['LG전자 코드제로 A9 AT9100SA', '핸디스틱청소기 / 무선 / 흡입형 / 흡입력: 200W / 소비전력: 590W / 2023년형 / [구성] 거치대: 올인원타워 / 먼지비움 / 충전 / 액서서리수납 / 스탠드거치 / 먼지비움시간: 60초 / 브러쉬: 바닥 / 솔형 / 틈새 / [배터리] 사용시간: 40분(최대) / 충전시간: 4시간 / 분리형(1개) / 리튬이온 / 25.2V / [청소] 싸이클론흡입 / 스마트인버터모터 / [부가] 배터리잔량표시 / 워셔블헤파필터 / 5단계여과 / 색상: 딥그레이(올인원타워), 판타지실버(청소기) / 무게: 2.5kg / 크기(가로x세로x깊이): 250x1120x260mm', '485570'], ['다이슨 V12 디텍트 슬림 컴플리트 (옐로/니켈)', '핸디스틱청소기 / 무선 / 흡입형 / 흡입력: 150AW / 2021년형 / [구성] 충전 / 스탠드거치 / 브러쉬: 레이저바닥 / 펫 / 솔형 / 틈새 / 카펫 / [배터리] 사용시간: 1시간(최대) / 충전시간: 3시간30분 / 분리형(1개) / [청소] 싸이클론흡입 / 먼지감지센서 / 먼지통: 0.35L / [부가] 디스플레이표시 / 워셔블헤파필터 / 색상: 옐로우/니켈 / 무게: 2.2kg / 크기(가로x세로x깊이): 250x1095x252mm', '779000'], ['LG전자 오브제컬렉션 코드제로 A9 AU9472WD', '핸디스틱청소기 / 무선 / 흡입+물걸레(동시) / 흡입력: 220W / 소비전력: 590W / 2023년형 / [구성] 거치대: 올인원타워 / 먼지비움 / 충전 / 액서서리수납 / 스탠드거치 / 먼지비움시간: 60초 / 브러쉬: 바닥 / 물걸레: 일반 / 솔형 / 틈새 / 먼지봉투: 2.5L / [배터리] 사용시간: 1시간(최대) / 충전시간: 4시간 / 분리형(1개) / 리튬이온 / 25.2V / [청소] 싸이클론흡입 / 자동물공급 / 스마트인버터모터 / [부가] 디스플레이표시 / 워셔블헤파필터 / 5단계여과 / 색상: 카밍베이지 / 무게: 2.5kg / 크기(가로x세로x깊이): 250x1120x260mm', '681110'], ['삼성전자 비스포크 제트 AI VS25C972DR', '핸디스틱청소기 / 무선 / 흡입+물걸레(교체) / 흡입력: 250W / 2023년형 / [구성] 거치대: 청정스테이션 / 먼지비움 / 싸이클론비움 / 충전 / UVC LED / 스탠드거치 / 먼지비움시간: 14초 / 브러쉬: 바닥 / 물걸레: 일반 / 솔형 / 틈새 / 먼지봉투: 1.2L / [배터리] 사용시간: 1시간(최대) / 충전시간: 3시간30분 / 분리형(2개) / 리튬이온 / 2200+2200mAh / 25.2V / [청소] 싸이클론흡입 / AI청소 / LED라이트 / 물분사 / 먼지감지센서 / 디지털인버터모터 / 먼지통: 0.5L / 물통: 0.15L / [부가] 스마트폰제어 / 대화형알림창 / 배터리잔량표시 / 항균물통 / 워셔블헤파필터 / 5단계여과 / 색상: 새틴베이지 / 크기(가로x세로x깊이): 250x942x243mm / 출시가: 1,449,000원', '717310'], ['다이슨 V12 오리진 컴플리트', '핸디스틱청소기 / 무선 / 흡입형 / 흡입력: 130AW / [구성] 충전 / 스탠드거치 / 브러쉬: 바닥 / 침구 / 펫 / 솔형 / 틈새 / [배터리] 사용시간: 1시간(최대) / 충전시간: 4시간 / 분리형(1개) / [청소] 싸이클론흡입 / 먼지감지센서 / 하이퍼미디움 / 먼지통: 0.35L / [부가] 디스플레이표시 / 헤파필터 / 색상: 니켈/퍼플 / 무게: 2.2kg / 크기(가로x세로x깊이): 250x1264x252mm', '556990'], ['무궁화전자 바로바로 MC-B250', '핸디스틱청소기 / 무선 / 흡입형 / 흡입력: 60W / [구성] 충전 / 스탠드거치 / 브러쉬: 바닥 / 틈새 / 연장관 / [배터리] 사용시간: 20분(최대) / 충전시간: 8시간 / 니켈수소 / 10.8V / [부가] 먼지필터 / 무게: 1.3kg / 크기(가로x세로x깊이): 144x387x136mm', '40200'], ['아이닉 NEW i20 (23년형)', '핸디스틱청소기 / 무선 / 흡입형 / 흡입력: 35000Pa / 소비전력: 350W / 2023년형 / [구성] 벽걸이거치 / 브러쉬: 바닥 / 물걸레: 별매 / 침구 / 솔형 / 틈새 / [배터리] 사용시간: 50분(최대) / 충전시간: 5시간 / 분리형(1개) / 리튬이온 / 2200mAh / [청소] LED라이트 / UV살균 / BLDC모터 / 먼지통: 0.5L / [부가] 배터리잔량표시 / 헤파필터 / 5단계여과 / 색상: 블랙 / 무게: 1.5kg(본체기준) / 크기(가로x세로x깊이): 250x1150x210mm', '169000'], ['샤크 에보 파워 플러스 WV250KR2', '핸디스틱청소기 / 무선 / 흡입형 / 소비전력: 120W / 2019년형 / [구성] 브러쉬: 바닥 / 침구 / 솔형 / 틈새 / 연장관 / [배터리] 사용시간: 12분(최대) / 충전시간: 2시간30분 / 분리형(1개) / 리튬이온 / 10.8V / BLDC모터 / [부가] 먼지필터 / 색상: 블랙 / 무게: 0.624kg / 크기(가로x세로x깊이): 61x419x53mm', '147280'], ['LG전자 코드제로 A9 A912PM', '핸디스틱청소기 / 무선 / 흡입형 / 흡입력: 160W / [구성] 스탠드거치 / 브러쉬: 바닥 / [배터리] 사용시간: 50분(최대) / 충전시간: 4시간 / 분리형(1개) / 색상: 블라썸핑크', '275000'], ['다이슨 V8', '핸디스틱청소기 / 무선 / 흡입형 / 흡입력: 115AW / [구성] 벽걸이거치 / 브러쉬: 바닥 / 솔형 / 틈새 / [배터리] 사용시간: 1시간(최대) / 충전시간: 3.5시간 / 리튬이온 / 싸이클론흡입 / [부가] 먼지필터 / 무게: 2.5kg / 크기(가로x세로x깊이): 221x1256x250mm', '382080'], ['LG전자 오브제컬렉션 코드제로 A9 AU9402WD', '핸디스틱청소기 / 무선 / 흡입형 / 흡입력: 220W / 소비전력: 590W / 2023년형 / [구성] 거치대: 올인원타워 / 먼지비움 / 충전 / 액서서리수납 / 스탠드거치 / 먼지비움시간: 60초 / 브러쉬: 바닥 / 물걸레: 별매 / 침구 / 솔형 / 틈새 / 먼지봉투: 2.5L / [배터리] 사용시간: 1시간(최대) / 충전시간: 4시간 / 분리형(1개) / 리튬이온 / 25.2V / [청소] 싸이클론흡입 / 스마트인버터모터 / [부가] 디스플레이표시 / 워셔블헤파필터 / 5단계여과 / 색상: 카밍베이지 / 무게: 2.5kg / 크기(가로x세로x깊이): 250x1120x260mm', '603610'], ['삼성전자 비스포크 제트 VS20B957E5', '핸디스틱청소기 / 무선 / 흡입+물걸레(교체) / 흡입력: 220W / 2022년형 / [구성] 거치대: 청정스테이션 / 먼지비움 / 충전 / UVC LED / 스탠드거치 / 먼지비움시간: 14초 / 브러쉬: 바닥 / 물걸레: 일반 / 침구 / 솔형 / 틈새 / 연장관 / 먼지봉투: 1.2L / [배터리] 사용시간: 1시간(최대) / 충전시간: 3시간30분 / 분리형(2개) / 리튬이온 / 2200+2200mAh / 25.2V / [청소] 싸이클론흡입 / LED라이트 / 자동물공급 / 물분사 / 디지털인버터모터 / 먼지통: 0.5L / [부가] 스마트폰제어 / 대화형알림창 / 디스플레이표시 / 배터리잔량표시 / 항균물통 / 워셔블헤파필터 / 5단계여과 / 색상: 산토리니베이지 / 크기(가로x세로x깊이): 250x930x202mm', '655000'], ['샤오미 디어마 VC03S', '핸디스틱청소기 / 무선 / 흡입형 / 흡입력: 15000Pa / 소비전력: 600W / [구성] 벽걸이거치 / 브러쉬: 바닥 / 솔형 / 틈새 / 연장관 / [배터리] 사용시간: 40분(최대) / 충전시간: 6시간 / 4000mAh / 먼지통: 0.6L / [부가] 헤파필터 / 색상: 화이트 / 무게: 1.2kg / 크기(가로x세로x깊이): 210x1155x180mm', '99000'], ['삼성전자 비스포크 제트 VS20B956BUE', '핸디스틱청소기 / 무선 / 흡입형 / 흡입력: 220W / 2022년형 / [구성] 거치대: 청정스테이션 / 먼지비움 / 충전 / UVC LED / 스탠드거치 / 먼지비움시간: 14초 / 브러쉬: 바닥 / 물걸레: 별매 / 침구 / 솔형 / 틈새 / 먼지봉투: 1.2L / [배터리] 사용시간: 1시간(최대) / 충전시간: 3시간30분 / 분리형(1개) / 리튬이온 / 2200mAh / 25.2V / [청소] 싸이클론흡입 / LED라이트 / 디지털인버터모터 / 먼지통: 0.5L / [부가] 스마트폰제어 / 대화형알림창 / 디스플레이표시 / 배터리잔량표시 / 항균물통 / 워셔블헤파필터 / 5단계여과 / 색상: 산토리니베이지 / 크기(가로x세로x깊이): 250x930x202mm', '509270'], ['로보락 다이애드 프로 콤보', '핸디스틱청소기 / 무선 / 흡입+물걸레(동시) / 흡입력: 17000Pa / 2024년형 / 스탠드거치 / 사용시간: 43분(최대) / 물통: 0.95L, 오수통 0.77L / 스마트폰제어 / 오토클리닝 / 오토드라이 / 무게: 4.8kg / 투에지클리닝 / 오염감지센서 / 브러쉬: 카펫, 침구, 틈새, 더스트, 바닥 / 크기(가로x세로x깊이): 270x1112x191mm', '649000'], ['다이슨 V15 오리진 플러피', '핸디스틱청소기 / 무선 / 흡입형 / 흡입력: 200AW / 2023년형 / [구성] 벽걸이거치 / 브러쉬: 바닥 / 솔형 / 틈새 / [배터리] 사용시간: 1시간(최대) / 충전시간: 4시간30분 / 분리형(1개) / [청소] 싸이클론흡입 / 먼지감지센서 / 하이퍼미디움모터 / 먼지통: 0.54L / [부가] 디스플레이표시 / 워셔블헤파필터 / 색상: 니켈/레드 / 무게: 3kg / 크기(가로x세로x깊이): 266x1260x250mm', '638220'], ['일렉트로룩스 Well Q8 WQ81-3BSWF', '핸디스틱청소기 / 무선 / 흡입형 / 2023년형 / [구성] 충전 / 스탠드거치 / 브러쉬: 바닥 / 솔형 / 틈새 / [배터리] 사용시간: 53분(최대) / 리튬이온 / 2000mAh / [청소] 싸이클론흡입 / LED라이트 / [부가] 헤파필터 / 무게: 2.8kg / 크기(가로x세로x깊이): 258x1105x140mm', '264640'], ['신일전자 SVC-K720TW', '핸디스틱청소기 / 무선 / 흡입형 / 흡입력: 22000Pa / 소비전력: 40W / [구성] 충전 / 스탠드거치 / 브러쉬: 바닥 / 틈새 / 연장관 / [배터리] 사용시간: 18분(최대) / 충전시간: 6시간 30분 / 리튬이온 / 2180mAh / BLDC모터 / [부가] 헤파필터 / 색상: 화이트 / 무게: 947g', '40550'], ['드리미 V10', '핸디스틱청소기 / 무선 / 흡입형 / 흡입력: 140AW / 흡입력: 22000Pa / 소비전력: 450W / [구성] 벽걸이거치 / 브러쉬: 바닥 / 침구 / 솔형 / 틈새 / 연장관 / [배터리] 사용시간: 1시간(최대) / 충전시간: 3시간30분 / 2500mAh / 25.2V / 싸이클론흡입 / BLDC모터 / 먼지통: 0.5L / [부가] 헤파필터 / 5단계여과 / 색상: 화이트 / 무게: 1.5kg', '143935'], ['일렉트로룩스 얼티밋홈 900 EFP91814', '핸디스틱청소기 / 무선 / 흡입형 / 소비전력: 150W / 2021년형 / [구성] 충전 / 스탠드거치 / 브러쉬: 바닥 / 물걸레: 별매 / 펫 / 솔형 / 틈새 / 각도조절툴 / [배터리] 사용시간: 1시간(최대) / 충전시간: 1시간38분 / 분리형(2개) / 리튬이온 / 25.2V / [청소] 싸이클론흡입 / LED라이트 / 인버터모터 / 먼지통: 0.4L / [부가] 디스플레이표시 / 배터리잔량표시 / 워셔블헤파필터 / 5단계여과 / 색상: 어반그레이 / 무게: 2.88kg / 크기(가로x세로x깊이): 260x1120x260mm', '369000'], ['LG전자 오브제컬렉션 코드제로 A9S AX9984WE + MO972WA', '핸디스틱청소기+로봇청소기 / 무선 / 흡입+물걸레(동시) / 흡입력: 250W / 소비전력: 620W / 2023년형 / [구성] 거치대: 올인원타워 / 먼지비움 / 충전 / UVC LED / 액서서리수납 / 스탠드거치 / 먼지비움시간: 30초 / 브러쉬: 와이드바닥 / 물걸레: 스팀, 고온, 일반 / 침구 / 솔형 / 틈새 / 먼지봉투: 2.5L / [배터리] 사용시간: 30분(최대) / 충전시간: 4시간 / 분리형(2개) / 리튬이온 / 25.2V / [청소] 싸이클론흡입 / LED라이트 / 자동물공급 / 스마트인버터모터 / [부가] 스마트폰제어 / 대화형알림창 / 워셔블헤파필터 / 5단계여과 / 색상: 카밍베이지 / 무게: 2.47kg / 크기(가로x세로x깊이): 300x1120x245mm / ※ 상품 옵션 확인 후 구매', '1872250'], ['삼성전자 비스포크 제트 AI VS28C973DR', '핸디스틱청소기 / 무선 / 흡입+물걸레(교체) / 흡입력: 280W / 2023년형 / [구성] 거치대: 청정스테이션 / 먼지비움 / 싸이클론비움 / 충전 / UVC LED / 스탠드거치 / 먼지비움시간: 14초 / 브러쉬: 바닥 / 물걸레: 일반 / 솔형 / 틈새 / 먼지봉투: 1.2L / [배터리] 사용시간: 1시간20분(최대) / 충전시간: 5시간 / 분리형(2개) / 리튬이온 / 3970+2200mAh / 25.2V / [청소] 싸이클론흡입 / AI청소 / LED라이트 / 물분사 / 먼지감지센서 / 디지털인버터모터 / 먼지통: 0.5L / [부가] 스마트폰제어 / 대화형알림창 / 배터리잔량표시 / 항균물통 / 워셔블헤파필터 / 5단계여과 / 색상: 새틴블랙 / 크기(가로x세로x깊이): 250x942x243mm / 출시가: 1,540,900원', '874760'], ['비쎌(BISSELL) 크로스웨이브 3.0 PRO 2765Z', '핸디스틱청소기 / 무선 / 흡입+물걸레(동시) / 스탠드거치 / 사용시간: 30분(최대) / 물통: 정수: 0.828L, 오수: 0.55L / 배터리잔량표시 / 오토클리닝 / 크기(가로x세로x깊이): 265x1125x65mm', '199710']]\n"
     ]
    }
   ],
   "source": [
    "# 예제 6-9 반복문으로 검색 결과의 1페이지에 대한 상품 정보 추출\n",
    "prod_data = []\n",
    "for prod_item in prod_items:\n",
    "    try: # ① 상품명 가져오기\n",
    "        title = prod_item.select('p.prod_name > a')[0].text.strip()\n",
    "    except:\n",
    "        title = ''\n",
    "    try: # ② 스펙 목록 가져오기\n",
    "        spec_list = prod_item.select('div.spec_list')[0].text.strip()\n",
    "    except:\n",
    "        spec_list = ''\n",
    "    try: # ③ 가격 정보 가져오기 \n",
    "        price = prod_item.select('li.rank_one > p.price_sect > a > strong')[0].text.strip().replace(\",\",\"\")\n",
    "    except:\n",
    "        price = 0\n",
    "    prod_data.append([title, spec_list, price])\n",
    "    \n",
    "    # 줄바꿈 제거\n",
    "for data in prod_data:\n",
    "    for i in range(len(data)):\n",
    "        if isinstance(data[i], str):\n",
    "            data[i] = data[i].replace(\"\\t\", \"\")\n",
    "            \n",
    "print(len(prod_data))\n",
    "print(prod_data)"
   ]
  },
  {
   "cell_type": "code",
   "execution_count": 20,
   "metadata": {},
   "outputs": [],
   "source": [
    "# 예제 6-10 상품 정보 태그에서 원하는 정보를 추출하는 함수\n",
    "def get_prod_items(prod_items):\n",
    "    prod_data = []\n",
    "    for prod_item in prod_items:\n",
    "         # ① 상품명 가져오기\n",
    "        try:\n",
    "            title = prod_item.select('p.prod_name > a')[0].text.strip()\n",
    "        except:\n",
    "            title = ''\n",
    "        # ② 스펙 목록 가져오기\n",
    "        try: \n",
    "            spec_list = prod_item.select('div.spec_list')[0].text.strip()\n",
    "        except:\n",
    "            spec_list = ''\n",
    "        # ③ 가격 정보 가져오기 \n",
    "        try: \n",
    "            price = int(prod_item.select('li.rank_one > p.price_sect > a > strong')[0].text.strip().replace(\",\",\"\"))\n",
    "        except:\n",
    "            price = 0\n",
    "        prod_data.append([title, spec_list, price])\n",
    "    return prod_data"
   ]
  },
  {
   "cell_type": "code",
   "execution_count": 21,
   "metadata": {},
   "outputs": [
    {
     "name": "stdout",
     "output_type": "stream",
     "text": [
      "42\n"
     ]
    }
   ],
   "source": [
    "# 예제 6-11 상품 정보를 가져오는 함수 테스트\n",
    "prod_items = soup.select('div.main_prodlist > ul.product_list > li.prod_item')\n",
    "prod_data = get_prod_items(prod_items)\n",
    "print(len(prod_data))"
   ]
  },
  {
   "cell_type": "markdown",
   "metadata": {},
   "source": [
    "# 6.2  데이터 수집 2 - 여러 페이지에 걸친 다나와 검색 페이지 크롤링"
   ]
  },
  {
   "cell_type": "markdown",
   "metadata": {},
   "source": [
    "### 6.2.1 다나와 검색 결과 페이지 URL 분석"
   ]
  },
  {
   "cell_type": "code",
   "execution_count": 22,
   "metadata": {},
   "outputs": [
    {
     "name": "stdout",
     "output_type": "stream",
     "text": [
      "http://search.danawa.com/dsearch.php?query=무선청소기&volumeType=allvs&page=1&limit=30&sort=saveDESC&list=list&boost=true&addDelivery=N&tab=goods&tab=goods\n"
     ]
    }
   ],
   "source": [
    "# 예제 6-12 다나와 검색 URL을 만들어주는 함수 \n",
    "def get_search_page_url(keyword, page):\n",
    "    return 'http://search.danawa.com/dsearch.php?query={}&volumeType=allvs&page={}&limit=30&sort=saveDESC&list=list&boost=true&addDelivery=N&tab=goods&tab=goods'.format(keyword, page)\n",
    "\n",
    "keyword = '무선청소기'\n",
    "page = 1\n",
    "url = get_search_page_url(keyword, page)\n",
    "print(url)\n"
   ]
  },
  {
   "cell_type": "markdown",
   "metadata": {},
   "source": [
    "### 6.2.2 주피터 노트북의 진행표시줄 처리 "
   ]
  },
  {
   "cell_type": "code",
   "execution_count": 24,
   "metadata": {},
   "outputs": [
    {
     "name": "stdout",
     "output_type": "stream",
     "text": [
      "Requirement already satisfied: tqdm in c:\\users\\moonw\\anaconda3\\lib\\site-packages (4.65.0)\n",
      "Requirement already satisfied: colorama in c:\\users\\moonw\\anaconda3\\lib\\site-packages (from tqdm) (0.4.6)\n"
     ]
    }
   ],
   "source": [
    "# 예제 6-13 tqdm 라이브러리 설치 \n",
    "! pip install tqdm\n",
    "\n",
    "#tqdm은 데이터 처리, 모델 학습 등의 작업에서 사용자에게 작업의 진행 상황을 시각적으로 표시하여 효율적인 작업 관리를 도와줌"
   ]
  },
  {
   "cell_type": "code",
   "execution_count": 23,
   "metadata": {},
   "outputs": [
    {
     "name": "stderr",
     "output_type": "stream",
     "text": [
      "C:\\Users\\moonw\\AppData\\Local\\Temp\\ipykernel_3280\\2496968331.py:5: TqdmDeprecationWarning: This function will be removed in tqdm==5.0.0\n",
      "Please use `tqdm.notebook.tqdm` instead of `tqdm.tqdm_notebook`\n",
      "  for page in tqdm_notebook(range(1, total_page + 1)):\n"
     ]
    },
    {
     "data": {
      "application/vnd.jupyter.widget-view+json": {
       "model_id": "e0241800d9b44edab3ef4711692bc869",
       "version_major": 2,
       "version_minor": 0
      },
      "text/plain": [
       "  0%|          | 0/10 [00:00<?, ?it/s]"
      ]
     },
     "metadata": {},
     "output_type": "display_data"
    }
   ],
   "source": [
    "# 예제 6-14 tqdm 사용법 \n",
    "import time\n",
    "from tqdm import tqdm_notebook\n",
    "total_page = 10\n",
    "for page in tqdm_notebook(range(1, total_page + 1)):\n",
    "    # 페이지가 로딩 완료되기 위한 시간을 5초로 준다. \n",
    "    time.sleep(5)"
   ]
  },
  {
   "cell_type": "markdown",
   "metadata": {},
   "source": [
    "### 6.2.3 여러 페이지에 걸친 상품 정보 수집"
   ]
  },
  {
   "cell_type": "code",
   "execution_count": 24,
   "metadata": {},
   "outputs": [
    {
     "name": "stderr",
     "output_type": "stream",
     "text": [
      "C:\\Users\\moonw\\AppData\\Local\\Temp\\ipykernel_3280\\3018116461.py:14: TqdmDeprecationWarning: This function will be removed in tqdm==5.0.0\n",
      "Please use `tqdm.notebook.tqdm` instead of `tqdm.tqdm_notebook`\n",
      "  for page in tqdm_notebook(range(1, total_page + 1)):\n"
     ]
    },
    {
     "data": {
      "application/vnd.jupyter.widget-view+json": {
       "model_id": "aa97f5ece4ee423ba4faa858dce7c334",
       "version_major": 2,
       "version_minor": 0
      },
      "text/plain": [
       "  0%|          | 0/10 [00:00<?, ?it/s]"
      ]
     },
     "metadata": {},
     "output_type": "display_data"
    }
   ],
   "source": [
    "# 예제 6-15 실전 다나와 크롤링\n",
    "from selenium import webdriver\n",
    "import time\n",
    "from bs4 import BeautifulSoup\n",
    "from tqdm import tqdm_notebook\n",
    "driver = webdriver.Chrome()\n",
    "\n",
    "# 암묵적으로 웹 자원 로드를 위해 3초까지 기다림\n",
    "driver.implicitly_wait(3)\n",
    "keyword = '무선청소기'\n",
    "total_page = 10\n",
    "prod_data_total = []\n",
    "# 진행 정도를 표현하는 tqdm을 적용 \n",
    "for page in tqdm_notebook(range(1, total_page + 1)):\n",
    "    # ① 검색 페이지 이동\n",
    "    url = get_search_page_url(keyword, page)\n",
    "    driver.get(url)\n",
    "    # 페이지가 로딩 완료되기 위한 시간으로 5초를 할당\n",
    "    time.sleep(5)\n",
    "    \n",
    "    # ② 현재 페이지의 HTML 정보 가져오기\n",
    "    html = driver.page_source\n",
    "    soup = BeautifulSoup(html, 'html.parser')\n",
    "    \n",
    "    # ③ 상품 정보 추출\n",
    "    prod_items = soup.select('div#productListArea > div.main_prodlist > ul.product_list > li.prod_item')\n",
    "    prod_item_list = get_prod_items(prod_items)\n",
    "    \n",
    "    # ④ 추출 데이터 저장\n",
    "    prod_data_total = prod_data_total + prod_item_list\n"
   ]
  },
  {
   "cell_type": "markdown",
   "metadata": {},
   "source": [
    "### 6.2.4 수집 데이터 저장 "
   ]
  },
  {
   "cell_type": "code",
   "execution_count": 25,
   "metadata": {},
   "outputs": [],
   "source": [
    "# 예제 6-16 데이터 저장\n",
    "import pandas as pd\n",
    "data = pd.DataFrame(prod_data_total)\n",
    "data.columns = ['상품명', '스펙 목록', '가격']\n",
    "data.to_excel('./files/3_1_danawa_crawling_result.xlsx', index = False)"
   ]
  },
  {
   "cell_type": "markdown",
   "metadata": {},
   "source": [
    "### 6.3.1 다나와 크롤링 데이터 불러오기 "
   ]
  },
  {
   "cell_type": "code",
   "execution_count": 26,
   "metadata": {},
   "outputs": [
    {
     "name": "stdout",
     "output_type": "stream",
     "text": [
      "<class 'pandas.core.frame.DataFrame'>\n",
      "RangeIndex: 420 entries, 0 to 419\n",
      "Data columns (total 3 columns):\n",
      " #   Column  Non-Null Count  Dtype \n",
      "---  ------  --------------  ----- \n",
      " 0   상품명     400 non-null    object\n",
      " 1   스펙 목록   400 non-null    object\n",
      " 2   가격      420 non-null    int64 \n",
      "dtypes: int64(1), object(2)\n",
      "memory usage: 10.0+ KB\n"
     ]
    },
    {
     "data": {
      "text/html": [
       "<div>\n",
       "<style scoped>\n",
       "    .dataframe tbody tr th:only-of-type {\n",
       "        vertical-align: middle;\n",
       "    }\n",
       "\n",
       "    .dataframe tbody tr th {\n",
       "        vertical-align: top;\n",
       "    }\n",
       "\n",
       "    .dataframe thead th {\n",
       "        text-align: right;\n",
       "    }\n",
       "</style>\n",
       "<table border=\"1\" class=\"dataframe\">\n",
       "  <thead>\n",
       "    <tr style=\"text-align: right;\">\n",
       "      <th></th>\n",
       "      <th>상품명</th>\n",
       "      <th>스펙 목록</th>\n",
       "      <th>가격</th>\n",
       "    </tr>\n",
       "  </thead>\n",
       "  <tbody>\n",
       "    <tr>\n",
       "      <th>0</th>\n",
       "      <td>LG전자 오브제컬렉션 코드제로 A9S AX9884</td>\n",
       "      <td>핸디스틱청소기 / \\t\\t\\t\\t\\t\\t\\t\\t\\t\\t\\t\\t\\t\\t\\t\\t\\t\\t...</td>\n",
       "      <td>855210</td>\n",
       "    </tr>\n",
       "    <tr>\n",
       "      <th>1</th>\n",
       "      <td>삼성전자 비스포크 제트 VS20B956AX</td>\n",
       "      <td>핸디스틱청소기 / \\t\\t\\t\\t\\t\\t\\t\\t\\t\\t\\t\\t\\t\\t\\t\\t\\t\\t...</td>\n",
       "      <td>450370</td>\n",
       "    </tr>\n",
       "    <tr>\n",
       "      <th>2</th>\n",
       "      <td>샤오미 미홀 M22</td>\n",
       "      <td>핸디스틱청소기 / \\t\\t\\t\\t\\t\\t\\t\\t\\t\\t\\t\\t\\t\\t\\t\\t\\t\\t...</td>\n",
       "      <td>154220</td>\n",
       "    </tr>\n",
       "    <tr>\n",
       "      <th>3</th>\n",
       "      <td>LG전자 오브제컬렉션 코드제로 A9 AS9202WD</td>\n",
       "      <td>핸디스틱청소기 / \\t\\t\\t\\t\\t\\t\\t\\t\\t\\t\\t\\t\\t\\t\\t\\t\\t\\t...</td>\n",
       "      <td>453310</td>\n",
       "    </tr>\n",
       "    <tr>\n",
       "      <th>4</th>\n",
       "      <td>LG전자 오브제컬렉션 코드제로 A9S AX9984</td>\n",
       "      <td>핸디스틱청소기 / \\t\\t\\t\\t\\t\\t\\t\\t\\t\\t\\t\\t\\t\\t\\t\\t\\t\\t...</td>\n",
       "      <td>992930</td>\n",
       "    </tr>\n",
       "  </tbody>\n",
       "</table>\n",
       "</div>"
      ],
      "text/plain": [
       "                            상품명  \\\n",
       "0   LG전자 오브제컬렉션 코드제로 A9S AX9884   \n",
       "1       삼성전자 비스포크 제트 VS20B956AX   \n",
       "2                    샤오미 미홀 M22   \n",
       "3  LG전자 오브제컬렉션 코드제로 A9 AS9202WD   \n",
       "4   LG전자 오브제컬렉션 코드제로 A9S AX9984   \n",
       "\n",
       "                                               스펙 목록      가격  \n",
       "0  핸디스틱청소기 / \\t\\t\\t\\t\\t\\t\\t\\t\\t\\t\\t\\t\\t\\t\\t\\t\\t\\t...  855210  \n",
       "1  핸디스틱청소기 / \\t\\t\\t\\t\\t\\t\\t\\t\\t\\t\\t\\t\\t\\t\\t\\t\\t\\t...  450370  \n",
       "2  핸디스틱청소기 / \\t\\t\\t\\t\\t\\t\\t\\t\\t\\t\\t\\t\\t\\t\\t\\t\\t\\t...  154220  \n",
       "3  핸디스틱청소기 / \\t\\t\\t\\t\\t\\t\\t\\t\\t\\t\\t\\t\\t\\t\\t\\t\\t\\t...  453310  \n",
       "4  핸디스틱청소기 / \\t\\t\\t\\t\\t\\t\\t\\t\\t\\t\\t\\t\\t\\t\\t\\t\\t\\t...  992930  "
      ]
     },
     "execution_count": 26,
     "metadata": {},
     "output_type": "execute_result"
    }
   ],
   "source": [
    "# 예제 6-17 다나와 크롤링 결과 가져오기 \n",
    "import pandas as pd\n",
    "\n",
    "data = pd.read_excel('./files/3_1_danawa_crawling_result.xlsx')\n",
    "data.info()\n",
    "data.head()"
   ]
  },
  {
   "cell_type": "markdown",
   "metadata": {},
   "source": [
    "### 6.3.2 회사명, 모델명 정리 "
   ]
  },
  {
   "cell_type": "code",
   "execution_count": 47,
   "metadata": {},
   "outputs": [],
   "source": [
    "# NaN 값을 공백 문자열로 대체\n",
    "data['상품명'].fillna('', inplace=True)\n",
    "# 위 내용을 추가한 이유는 NaN일경우 NaN은 실제로 부동 소수점(float)으로 간주되며, 따라서 'split' 메서드를 사용할 수 없기 때문\n",
    "# fillna 메서드는 DataFrame에서 결측값을 원하는 값으로 변경하는 메서드입니다.\n",
    "\n",
    "\n",
    "#예제 6-18 회사명 + 모델명 분리\n",
    "company_list = []\n",
    "product_list = []\n",
    "for title in data['상품명']:\n",
    "    title_info = title.split(' ', 1)\n",
    "    company_name = title_info[0]\n",
    "    product_name = title_info[1] if len(title_info) > 1 else ''  # title_info의 길이가 1보다 크면 product_name으로 할당\n",
    "    company_list.append(company_name)\n",
    "    product_list.append(product_name)\n"
   ]
  },
  {
   "cell_type": "markdown",
   "metadata": {},
   "source": [
    "### 6.3.4 스펙 목록에서 카테고리, 사용시간, 흡입력을 추출해서 정리\n"
   ]
  },
  {
   "cell_type": "code",
   "execution_count": 40,
   "metadata": {},
   "outputs": [
    {
     "name": "stdout",
     "output_type": "stream",
     "text": [
      "['핸디스틱청소기', '무선', '흡입+물걸레(동시)', '흡입력: 250W', '소비전력: 620W', '2023년형', '[구성] 거치대: 올인원타워', '먼지비움', '충전', 'UVC LED', '액서서리수납', '스탠드거치', '먼지비움시간: 30초', '브러쉬: 와이드바닥', '물걸레: 스팀, 고온, 일반', '솔형', '틈새', '먼지봉투: 2.5L', '[배터리] 사용시간: 30분(최대)', '충전시간: 4시간', '분리형(2개)', '리튬이온', '25.2V', '[청소] 싸이클론흡입', 'LED라이트', '자동물공급', '스마트인버터모터', '[부가] 스마트폰제어', '대화형알림창', '워셔블헤파필터', '5단계여과', '색상: 카밍베이지', '무게: 2.47kg', '크기(가로x세로x깊이): 300x1120x245mm']\n"
     ]
    }
   ],
   "source": [
    "# 예제 6-19 첫 번째 제품의 스펙 목록 분리\n",
    "spec_list = [spec.replace('\\t', '') for spec in data['스펙 목록'][0].split(' / ')]\n",
    "print(spec_list)\n"
   ]
  },
  {
   "cell_type": "code",
   "execution_count": 41,
   "metadata": {},
   "outputs": [
    {
     "data": {
      "text/plain": [
       "'핸디스틱청소기'"
      ]
     },
     "execution_count": 41,
     "metadata": {},
     "output_type": "execute_result"
    }
   ],
   "source": [
    "# 예제 6-20 카테고리 정보 추출\n",
    "category = spec_list[0] \n",
    "category "
   ]
  },
  {
   "cell_type": "code",
   "execution_count": 42,
   "metadata": {},
   "outputs": [
    {
     "name": "stdout",
     "output_type": "stream",
     "text": [
      "[배터리] 사용시간: 30분(최대)\n",
      "흡입력: 250W\n"
     ]
    }
   ],
   "source": [
    "# 예제 6-21 ‘사용시간’, ‘흡입력’이 포함된 원소 추출 \n",
    "for spec in spec_list:\n",
    "    if '사용시간' in spec: \n",
    "         use_time_spec = spec \n",
    "    elif '흡입력' in spec:\n",
    "        suction_spec = spec  \n",
    "print(use_time_spec)\n",
    "print(suction_spec)"
   ]
  },
  {
   "cell_type": "code",
   "execution_count": 43,
   "metadata": {},
   "outputs": [
    {
     "name": "stdout",
     "output_type": "stream",
     "text": [
      "사용시간:\n",
      "250W\n"
     ]
    }
   ],
   "source": [
    "# 예제 6-22 정량적인 수치 추출 \n",
    "use_time_value = use_time_spec.split(' ')[1].strip() \n",
    "suction_value = suction_spec.split(' ')[1].strip()\n",
    "print(use_time_value)\n",
    "print(suction_value)"
   ]
  },
  {
   "cell_type": "code",
   "execution_count": 45,
   "metadata": {},
   "outputs": [],
   "source": [
    "# NaN 값을 빈 문자열로 대체\n",
    "data['스펙 목록'].fillna('', inplace=True)\n",
    "\n",
    "# 예제 6-23 카테고리, 사용시간, 흡입력 추출 \n",
    "category_list = []\n",
    "use_time_list = []\n",
    "suction_list = [] \n",
    "\n",
    "for spec_data in data['스펙 목록']:\n",
    "    # ' / ' 기준으로 스펙 분리하기 \n",
    "    spec_list = spec_data.split(' / ')\n",
    "    \n",
    "    # 카테고리 추출하기\n",
    "    category = spec_list[0] \n",
    "    category_list.append(category)\n",
    "    \n",
    "    # 사용시간, 흡입력 추출 \n",
    "    ## 사용시간, 흡입력 정보가 없는 제품을 위해 변수를 생성 \n",
    "    use_time_value = None \n",
    "    suction_value = None \n",
    "    \n",
    "    ## spec_list의 각 원소에서 사용시간, 흡입력 수치 추출\n",
    "    for spec in spec_list:\n",
    "        if '사용시간' in spec: \n",
    "            use_time_value = spec.split(' ')[1].strip()             \n",
    "        if '흡입력' in spec:\n",
    "            suction_value = spec.split(' ')[1].strip() \n",
    "    use_time_list.append(use_time_value)\n",
    "    suction_list.append(suction_value)"
   ]
  },
  {
   "cell_type": "code",
   "execution_count": 48,
   "metadata": {},
   "outputs": [
    {
     "name": "stdout",
     "output_type": "stream",
     "text": [
      "카테고리 420 ['핸디스틱청소기', '핸디스틱청소기', '핸디스틱청소기', '핸디스틱청소기', '핸디스틱청소기']\n",
      "사용시간 420 ['사용시간:', '사용시간:', None, '사용시간:', '사용시간:']\n",
      "흡입력 420 ['250W', '220W', None, '210W', '250W']\n"
     ]
    }
   ],
   "source": [
    "# 예제 6-24 카테고리, 사용시간, 흡입력에 대한 전처리 결과 확인\n",
    "print(\"카테고리\", len(category_list), category_list[0:5])\n",
    "print(\"사용시간\", len(use_time_list), use_time_list[0:5])\n",
    "print(\"흡입력\", len(suction_list), suction_list[0:5])"
   ]
  }
 ],
 "metadata": {
  "kernelspec": {
   "display_name": "Python 3 (ipykernel)",
   "language": "python",
   "name": "python3"
  },
  "language_info": {
   "codemirror_mode": {
    "name": "ipython",
    "version": 3
   },
   "file_extension": ".py",
   "mimetype": "text/x-python",
   "name": "python",
   "nbconvert_exporter": "python",
   "pygments_lexer": "ipython3",
   "version": "3.11.5"
  }
 },
 "nbformat": 4,
 "nbformat_minor": 2
}
