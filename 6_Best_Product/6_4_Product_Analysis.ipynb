{
 "cells": [
  {
   "cell_type": "markdown",
   "metadata": {},
   "source": [
    "# 6.4  무선청소기 모델별 비교 분석"
   ]
  },
  {
   "cell_type": "markdown",
   "metadata": {},
   "source": [
    "### 6.4.1 데이터 살펴보기 "
   ]
  },
  {
   "cell_type": "code",
   "execution_count": 4,
   "metadata": {
    "scrolled": true
   },
   "outputs": [
    {
     "name": "stdout",
     "output_type": "stream",
     "text": [
      "<class 'pandas.core.frame.DataFrame'>\n",
      "RangeIndex: 352 entries, 0 to 351\n",
      "Data columns (total 6 columns):\n",
      " #   Column  Non-Null Count  Dtype  \n",
      "---  ------  --------------  -----  \n",
      " 0   카테고리    352 non-null    object \n",
      " 1   회사명     352 non-null    object \n",
      " 2   제품      351 non-null    object \n",
      " 3   가격      352 non-null    int64  \n",
      " 4   사용시간    25 non-null     float64\n",
      " 5   흡입력     231 non-null    float64\n",
      "dtypes: float64(2), int64(1), object(3)\n",
      "memory usage: 16.6+ KB\n"
     ]
    },
    {
     "data": {
      "text/html": [
       "<div>\n",
       "<style scoped>\n",
       "    .dataframe tbody tr th:only-of-type {\n",
       "        vertical-align: middle;\n",
       "    }\n",
       "\n",
       "    .dataframe tbody tr th {\n",
       "        vertical-align: top;\n",
       "    }\n",
       "\n",
       "    .dataframe thead th {\n",
       "        text-align: right;\n",
       "    }\n",
       "</style>\n",
       "<table border=\"1\" class=\"dataframe\">\n",
       "  <thead>\n",
       "    <tr style=\"text-align: right;\">\n",
       "      <th></th>\n",
       "      <th>카테고리</th>\n",
       "      <th>회사명</th>\n",
       "      <th>제품</th>\n",
       "      <th>가격</th>\n",
       "      <th>사용시간</th>\n",
       "      <th>흡입력</th>\n",
       "    </tr>\n",
       "  </thead>\n",
       "  <tbody>\n",
       "    <tr>\n",
       "      <th>0</th>\n",
       "      <td>핸디스틱청소기</td>\n",
       "      <td>LG전자</td>\n",
       "      <td>오브제컬렉션 코드제로 A9S AX9884</td>\n",
       "      <td>855210</td>\n",
       "      <td>NaN</td>\n",
       "      <td>250.0</td>\n",
       "    </tr>\n",
       "    <tr>\n",
       "      <th>1</th>\n",
       "      <td>핸디스틱청소기</td>\n",
       "      <td>삼성전자</td>\n",
       "      <td>비스포크 제트 VS20B956AX</td>\n",
       "      <td>450370</td>\n",
       "      <td>NaN</td>\n",
       "      <td>220.0</td>\n",
       "    </tr>\n",
       "    <tr>\n",
       "      <th>2</th>\n",
       "      <td>핸디스틱청소기</td>\n",
       "      <td>샤오미</td>\n",
       "      <td>미홀 M22</td>\n",
       "      <td>154220</td>\n",
       "      <td>NaN</td>\n",
       "      <td>NaN</td>\n",
       "    </tr>\n",
       "    <tr>\n",
       "      <th>3</th>\n",
       "      <td>핸디스틱청소기</td>\n",
       "      <td>LG전자</td>\n",
       "      <td>오브제컬렉션 코드제로 A9 AS9202WD</td>\n",
       "      <td>453310</td>\n",
       "      <td>NaN</td>\n",
       "      <td>210.0</td>\n",
       "    </tr>\n",
       "    <tr>\n",
       "      <th>4</th>\n",
       "      <td>핸디스틱청소기</td>\n",
       "      <td>LG전자</td>\n",
       "      <td>오브제컬렉션 코드제로 A9S AX9984</td>\n",
       "      <td>992930</td>\n",
       "      <td>NaN</td>\n",
       "      <td>250.0</td>\n",
       "    </tr>\n",
       "  </tbody>\n",
       "</table>\n",
       "</div>"
      ],
      "text/plain": [
       "      카테고리   회사명                       제품      가격  사용시간    흡입력\n",
       "0  핸디스틱청소기  LG전자   오브제컬렉션 코드제로 A9S AX9884  855210   NaN  250.0\n",
       "1  핸디스틱청소기  삼성전자       비스포크 제트 VS20B956AX  450370   NaN  220.0\n",
       "2  핸디스틱청소기   샤오미                   미홀 M22  154220   NaN    NaN\n",
       "3  핸디스틱청소기  LG전자  오브제컬렉션 코드제로 A9 AS9202WD  453310   NaN  210.0\n",
       "4  핸디스틱청소기  LG전자   오브제컬렉션 코드제로 A9S AX9984  992930   NaN  250.0"
      ]
     },
     "execution_count": 4,
     "metadata": {},
     "output_type": "execute_result"
    }
   ],
   "source": [
    "# 예제 6-34 데이터 불러오기 \n",
    "import pandas as pd\n",
    "danawa_data = pd.read_excel('./files/3_2_danawa_data_final.xlsx')\n",
    "danawa_data.info()\n",
    "danawa_data.head()"
   ]
  },
  {
   "cell_type": "code",
   "execution_count": 5,
   "metadata": {},
   "outputs": [
    {
     "data": {
      "text/html": [
       "<div>\n",
       "<style scoped>\n",
       "    .dataframe tbody tr th:only-of-type {\n",
       "        vertical-align: middle;\n",
       "    }\n",
       "\n",
       "    .dataframe tbody tr th {\n",
       "        vertical-align: top;\n",
       "    }\n",
       "\n",
       "    .dataframe thead th {\n",
       "        text-align: right;\n",
       "    }\n",
       "</style>\n",
       "<table border=\"1\" class=\"dataframe\">\n",
       "  <thead>\n",
       "    <tr style=\"text-align: right;\">\n",
       "      <th></th>\n",
       "      <th>카테고리</th>\n",
       "      <th>회사명</th>\n",
       "      <th>제품</th>\n",
       "      <th>가격</th>\n",
       "      <th>사용시간</th>\n",
       "      <th>흡입력</th>\n",
       "    </tr>\n",
       "  </thead>\n",
       "  <tbody>\n",
       "    <tr>\n",
       "      <th>88</th>\n",
       "      <td>핸디스틱청소기</td>\n",
       "      <td>아이룸</td>\n",
       "      <td>윈드포스 F9</td>\n",
       "      <td>198000</td>\n",
       "      <td>NaN</td>\n",
       "      <td>420.0</td>\n",
       "    </tr>\n",
       "    <tr>\n",
       "      <th>351</th>\n",
       "      <td>핸디스틱청소기</td>\n",
       "      <td>비브르</td>\n",
       "      <td>V38 스페셜 에디션</td>\n",
       "      <td>195000</td>\n",
       "      <td>NaN</td>\n",
       "      <td>410.0</td>\n",
       "    </tr>\n",
       "    <tr>\n",
       "      <th>14</th>\n",
       "      <td>핸디스틱청소기</td>\n",
       "      <td>DIBEA</td>\n",
       "      <td>ALLNEW29000 PLUS</td>\n",
       "      <td>224100</td>\n",
       "      <td>NaN</td>\n",
       "      <td>400.0</td>\n",
       "    </tr>\n",
       "    <tr>\n",
       "      <th>114</th>\n",
       "      <td>핸디스틱청소기</td>\n",
       "      <td>DIBEA</td>\n",
       "      <td>THE NEW</td>\n",
       "      <td>186985</td>\n",
       "      <td>NaN</td>\n",
       "      <td>390.0</td>\n",
       "    </tr>\n",
       "    <tr>\n",
       "      <th>150</th>\n",
       "      <td>핸디스틱청소기</td>\n",
       "      <td>DIBEA</td>\n",
       "      <td>ALLNEW22000+</td>\n",
       "      <td>199000</td>\n",
       "      <td>NaN</td>\n",
       "      <td>390.0</td>\n",
       "    </tr>\n",
       "  </tbody>\n",
       "</table>\n",
       "</div>"
      ],
      "text/plain": [
       "        카테고리    회사명                제품      가격  사용시간    흡입력\n",
       "88   핸디스틱청소기    아이룸           윈드포스 F9  198000   NaN  420.0\n",
       "351  핸디스틱청소기    비브르       V38 스페셜 에디션  195000   NaN  410.0\n",
       "14   핸디스틱청소기  DIBEA  ALLNEW29000 PLUS  224100   NaN  400.0\n",
       "114  핸디스틱청소기  DIBEA           THE NEW  186985   NaN  390.0\n",
       "150  핸디스틱청소기  DIBEA      ALLNEW22000+  199000   NaN  390.0"
      ]
     },
     "execution_count": 5,
     "metadata": {},
     "output_type": "execute_result"
    }
   ],
   "source": [
    "# 예제 6-35 흡입력 기준 정렬\n",
    "top_list = danawa_data.sort_values([\"흡입력\"], ascending = False)\n",
    "top_list.head()"
   ]
  },
  {
   "cell_type": "code",
   "execution_count": 6,
   "metadata": {},
   "outputs": [
    {
     "data": {
      "text/html": [
       "<div>\n",
       "<style scoped>\n",
       "    .dataframe tbody tr th:only-of-type {\n",
       "        vertical-align: middle;\n",
       "    }\n",
       "\n",
       "    .dataframe tbody tr th {\n",
       "        vertical-align: top;\n",
       "    }\n",
       "\n",
       "    .dataframe thead th {\n",
       "        text-align: right;\n",
       "    }\n",
       "</style>\n",
       "<table border=\"1\" class=\"dataframe\">\n",
       "  <thead>\n",
       "    <tr style=\"text-align: right;\">\n",
       "      <th></th>\n",
       "      <th>카테고리</th>\n",
       "      <th>회사명</th>\n",
       "      <th>제품</th>\n",
       "      <th>가격</th>\n",
       "      <th>사용시간</th>\n",
       "      <th>흡입력</th>\n",
       "    </tr>\n",
       "  </thead>\n",
       "  <tbody>\n",
       "    <tr>\n",
       "      <th>181</th>\n",
       "      <td>핸디스틱청소기</td>\n",
       "      <td>앤커</td>\n",
       "      <td>마하 V1 울트라</td>\n",
       "      <td>799000</td>\n",
       "      <td>82.0</td>\n",
       "      <td>NaN</td>\n",
       "    </tr>\n",
       "    <tr>\n",
       "      <th>77</th>\n",
       "      <td>핸디스틱청소기</td>\n",
       "      <td>JONR</td>\n",
       "      <td>ED20 PRO</td>\n",
       "      <td>254990</td>\n",
       "      <td>60.0</td>\n",
       "      <td>170.0</td>\n",
       "    </tr>\n",
       "    <tr>\n",
       "      <th>333</th>\n",
       "      <td>핸디스틱청소기</td>\n",
       "      <td>Oley</td>\n",
       "      <td>X4</td>\n",
       "      <td>135960</td>\n",
       "      <td>45.0</td>\n",
       "      <td>142.0</td>\n",
       "    </tr>\n",
       "    <tr>\n",
       "      <th>263</th>\n",
       "      <td>핸디스틱청소기</td>\n",
       "      <td>오아</td>\n",
       "      <td>보아르 포스 D14</td>\n",
       "      <td>117000</td>\n",
       "      <td>45.0</td>\n",
       "      <td>NaN</td>\n",
       "    </tr>\n",
       "    <tr>\n",
       "      <th>31</th>\n",
       "      <td>핸디스틱청소기</td>\n",
       "      <td>로보락</td>\n",
       "      <td>다이애드 프로 콤보</td>\n",
       "      <td>649000</td>\n",
       "      <td>43.0</td>\n",
       "      <td>170.0</td>\n",
       "    </tr>\n",
       "  </tbody>\n",
       "</table>\n",
       "</div>"
      ],
      "text/plain": [
       "        카테고리   회사명          제품      가격  사용시간    흡입력\n",
       "181  핸디스틱청소기    앤커   마하 V1 울트라  799000  82.0    NaN\n",
       "77   핸디스틱청소기  JONR    ED20 PRO  254990  60.0  170.0\n",
       "333  핸디스틱청소기  Oley          X4  135960  45.0  142.0\n",
       "263  핸디스틱청소기    오아  보아르 포스 D14  117000  45.0    NaN\n",
       "31   핸디스틱청소기   로보락  다이애드 프로 콤보  649000  43.0  170.0"
      ]
     },
     "execution_count": 6,
     "metadata": {},
     "output_type": "execute_result"
    }
   ],
   "source": [
    "# 예제 6-36 사용시간 기준 정렬\n",
    "top_list = danawa_data.sort_values([\"사용시간\"], ascending = False)\n",
    "top_list.head()"
   ]
  },
  {
   "cell_type": "code",
   "execution_count": 7,
   "metadata": {},
   "outputs": [
    {
     "data": {
      "text/html": [
       "<div>\n",
       "<style scoped>\n",
       "    .dataframe tbody tr th:only-of-type {\n",
       "        vertical-align: middle;\n",
       "    }\n",
       "\n",
       "    .dataframe tbody tr th {\n",
       "        vertical-align: top;\n",
       "    }\n",
       "\n",
       "    .dataframe thead th {\n",
       "        text-align: right;\n",
       "    }\n",
       "</style>\n",
       "<table border=\"1\" class=\"dataframe\">\n",
       "  <thead>\n",
       "    <tr style=\"text-align: right;\">\n",
       "      <th></th>\n",
       "      <th>카테고리</th>\n",
       "      <th>회사명</th>\n",
       "      <th>제품</th>\n",
       "      <th>가격</th>\n",
       "      <th>사용시간</th>\n",
       "      <th>흡입력</th>\n",
       "    </tr>\n",
       "  </thead>\n",
       "  <tbody>\n",
       "    <tr>\n",
       "      <th>181</th>\n",
       "      <td>핸디스틱청소기</td>\n",
       "      <td>앤커</td>\n",
       "      <td>마하 V1 울트라</td>\n",
       "      <td>799000</td>\n",
       "      <td>82.0</td>\n",
       "      <td>NaN</td>\n",
       "    </tr>\n",
       "    <tr>\n",
       "      <th>77</th>\n",
       "      <td>핸디스틱청소기</td>\n",
       "      <td>JONR</td>\n",
       "      <td>ED20 PRO</td>\n",
       "      <td>254990</td>\n",
       "      <td>60.0</td>\n",
       "      <td>170.0</td>\n",
       "    </tr>\n",
       "    <tr>\n",
       "      <th>333</th>\n",
       "      <td>핸디스틱청소기</td>\n",
       "      <td>Oley</td>\n",
       "      <td>X4</td>\n",
       "      <td>135960</td>\n",
       "      <td>45.0</td>\n",
       "      <td>142.0</td>\n",
       "    </tr>\n",
       "    <tr>\n",
       "      <th>263</th>\n",
       "      <td>핸디스틱청소기</td>\n",
       "      <td>오아</td>\n",
       "      <td>보아르 포스 D14</td>\n",
       "      <td>117000</td>\n",
       "      <td>45.0</td>\n",
       "      <td>NaN</td>\n",
       "    </tr>\n",
       "    <tr>\n",
       "      <th>31</th>\n",
       "      <td>핸디스틱청소기</td>\n",
       "      <td>로보락</td>\n",
       "      <td>다이애드 프로 콤보</td>\n",
       "      <td>649000</td>\n",
       "      <td>43.0</td>\n",
       "      <td>170.0</td>\n",
       "    </tr>\n",
       "  </tbody>\n",
       "</table>\n",
       "</div>"
      ],
      "text/plain": [
       "        카테고리   회사명          제품      가격  사용시간    흡입력\n",
       "181  핸디스틱청소기    앤커   마하 V1 울트라  799000  82.0    NaN\n",
       "77   핸디스틱청소기  JONR    ED20 PRO  254990  60.0  170.0\n",
       "333  핸디스틱청소기  Oley          X4  135960  45.0  142.0\n",
       "263  핸디스틱청소기    오아  보아르 포스 D14  117000  45.0    NaN\n",
       "31   핸디스틱청소기   로보락  다이애드 프로 콤보  649000  43.0  170.0"
      ]
     },
     "execution_count": 7,
     "metadata": {},
     "output_type": "execute_result"
    }
   ],
   "source": [
    "# 예제 6-37 흡입력, 사용시간을 기준으로 정렬\n",
    "# 흡입력 & 사용시간 TOP 리스트\n",
    "top_list = danawa_data.sort_values([\"사용시간\",\"흡입력\"], ascending = False)\n",
    "top_list.head()"
   ]
  },
  {
   "cell_type": "code",
   "execution_count": 8,
   "metadata": {},
   "outputs": [
    {
     "name": "stdout",
     "output_type": "stream",
     "text": [
      "가격 평균값 381249.9971590909\n",
      "흡입력 평균값 194.96103896103895\n",
      "사용시간 평균값 34.6\n"
     ]
    }
   ],
   "source": [
    "# 예제 6-38 평균값 정리\n",
    "price_mean_value = danawa_data['가격'].mean()\n",
    "suction_mean_value = danawa_data['흡입력'].mean()\n",
    "use_time_mean_value = danawa_data['사용시간'].mean()\n",
    "print(\"가격 평균값\", price_mean_value)\n",
    "print(\"흡입력 평균값\", suction_mean_value)\n",
    "print(\"사용시간 평균값\", use_time_mean_value)"
   ]
  },
  {
   "cell_type": "code",
   "execution_count": 13,
   "metadata": {},
   "outputs": [
    {
     "data": {
      "text/html": [
       "<div>\n",
       "<style scoped>\n",
       "    .dataframe tbody tr th:only-of-type {\n",
       "        vertical-align: middle;\n",
       "    }\n",
       "\n",
       "    .dataframe tbody tr th {\n",
       "        vertical-align: top;\n",
       "    }\n",
       "\n",
       "    .dataframe thead th {\n",
       "        text-align: right;\n",
       "    }\n",
       "</style>\n",
       "<table border=\"1\" class=\"dataframe\">\n",
       "  <thead>\n",
       "    <tr style=\"text-align: right;\">\n",
       "      <th></th>\n",
       "      <th>카테고리</th>\n",
       "      <th>회사명</th>\n",
       "      <th>제품</th>\n",
       "      <th>가격</th>\n",
       "      <th>사용시간</th>\n",
       "      <th>흡입력</th>\n",
       "    </tr>\n",
       "  </thead>\n",
       "  <tbody>\n",
       "  </tbody>\n",
       "</table>\n",
       "</div>"
      ],
      "text/plain": [
       "Empty DataFrame\n",
       "Columns: [카테고리, 회사명, 제품, 가격, 사용시간, 흡입력]\n",
       "Index: []"
      ]
     },
     "execution_count": 13,
     "metadata": {},
     "output_type": "execute_result"
    }
   ],
   "source": [
    "# 예제 6-39 가성비 좋은 제품 탐색\n",
    "condition_data = danawa_data [\n",
    "    (danawa_data['가격'] <= price_mean_value) & \n",
    "    (danawa_data['흡입력'] >= suction_mean_value) & \n",
    "    (danawa_data['사용시간'] >= use_time_mean_value)]\n",
    "condition_data\n",
    "# 조건에 전부 해당되는 거 없어서 안뜸."
   ]
  },
  {
   "cell_type": "markdown",
   "metadata": {},
   "source": [
    "### 6.4.3 데이터 시각화"
   ]
  },
  {
   "cell_type": "code",
   "execution_count": 46,
   "metadata": {},
   "outputs": [],
   "source": [
    "# 예제 6-40 라이브러리 임포트 및 한글 글꼴 설정\n",
    "from matplotlib import font_manager, rc\n",
    "import matplotlib.pyplot as plt\n",
    "import seaborn as sns\n",
    "import platform \n",
    "# 그래프에서 한글 표기를 위한 글꼴 변경(윈도우, macOS에 대해 처리)\n",
    "font_path = ''\n",
    "if platform.system() == 'Windows': \n",
    "    font_path = 'c:/Windows/Fonts/malgun.ttf'\n",
    "    font_name = font_manager.FontProperties(fname = font_path).get_name()\n",
    "    rc('font', family = font_name)\n",
    "elif platform.system() == 'Darwin':\n",
    "    font_path = '/Users/$USER/Library/Fonts/AppleGothic.ttf'\n",
    "    rc('font', family = 'AppleGothic')\n",
    "else: \n",
    "    print('Check your OS system')\n",
    "    \n",
    "%matplotlib inline"
   ]
  },
  {
   "cell_type": "code",
   "execution_count": 47,
   "metadata": {},
   "outputs": [
    {
     "data": {
      "text/plain": [
       "9"
      ]
     },
     "execution_count": 47,
     "metadata": {},
     "output_type": "execute_result"
    }
   ],
   "source": [
    "# 예제 6-41 결측값 없애기\n",
    "chart_data = danawa_data.dropna(axis = 0)\n",
    "len(chart_data)"
   ]
  },
  {
   "cell_type": "code",
   "execution_count": 48,
   "metadata": {},
   "outputs": [],
   "source": [
    "# 예제 6-42 흡입력, 사용시간의 최댓값/최솟값 정리\n",
    "# 흡입력, 사용사간 최대, 최소\n",
    "suction_max_value = chart_data['흡입력'].max()\n",
    "suction_mean_value = chart_data['흡입력'].mean()\n",
    "use_time_max_value = chart_data['사용시간'].max()\n",
    "use_time_mean_value = chart_data['사용시간'].mean()"
   ]
  },
  {
   "cell_type": "code",
   "execution_count": 49,
   "metadata": {},
   "outputs": [
    {
     "data": {
      "image/png": "[encoded data removed]",
      "text/plain": [
       "<Figure size 2000x1000 with 1 Axes>"
      ]
     },
     "metadata": {},
     "output_type": "display_data"
    }
   ],
   "source": [
    "# 예제 6-43 청소기 성능 시각화\n",
    "plt.figure(figsize=(20, 10))\n",
    "plt.title(\"무선 핸디/스틱청소기 차트\")\n",
    "sns.scatterplot(x = '흡입력', y = '사용시간', size = '가격', hue = chart_data['회사명'], \n",
    "                # hue를 사용하여 각 점을 '회사명'에 따라 색으로 구분 | hue는 seaborn의 함수 중 하나\n",
    "             data = chart_data, sizes = (10, 1000), legend = False)\n",
    "plt.plot([0, suction_max_value], \n",
    "          [use_time_mean_value, use_time_mean_value], \n",
    "          'r--', \n",
    "         # 'r--'는 빨간색('r')의 대시 대시 선('--')\n",
    "          lw = 1 )\n",
    "        #lw = 1은 선의 굵기를 설정\n",
    "    \n",
    "plt.plot([suction_mean_value, suction_mean_value], \n",
    "          [0, use_time_max_value], \n",
    "          'r--', \n",
    "          lw = 1 )\n",
    "plt.show()"
   ]
  },
  {
   "cell_type": "markdown",
   "metadata": {},
   "source": [
    "### 6.4.4 인기 제품의 데이터 시각화"
   ]
  },
  {
   "cell_type": "code",
   "execution_count": 51,
   "metadata": {},
   "outputs": [
    {
     "data": {
      "text/plain": [
       "9"
      ]
     },
     "execution_count": 51,
     "metadata": {},
     "output_type": "execute_result"
    }
   ],
   "source": [
    "# 예제 6-44 인기 제품 선택\n",
    "chart_data_selected = chart_data[:20]\n",
    "len(chart_data_selected)"
   ]
  },
  {
   "cell_type": "code",
   "execution_count": 52,
   "metadata": {},
   "outputs": [
    {
     "data": {
      "image/png": "[encoded data removed]",
      "text/plain": [
       "<Figure size 2000x1000 with 1 Axes>"
      ]
     },
     "metadata": {},
     "output_type": "display_data"
    }
   ],
   "source": [
    "# 예제 6-45 흡입력, 사용시간의 최댓값/최솟값 정리\n",
    "# 흡입력, 사용시간의 최댓값, 최솟값 구하기\n",
    "suction_max_value = chart_data_selected['흡입력'].max()\n",
    "suction_mean_value = chart_data_selected['흡입력'].mean()\n",
    "use_time_max_value = chart_data_selected['사용시간'].max()\n",
    "use_time_mean_value = chart_data_selected['사용시간'].mean()\n",
    "plt.figure(figsize=(20, 10))\n",
    "plt.title(\"무선 핸디/스틱청소기 TOP 20\")\n",
    "sns.scatterplot(x = '흡입력', \n",
    "                  y = '사용시간', \n",
    "                  size = '가격', \n",
    "                  hue = chart_data_selected['회사명'], \n",
    "                  data = chart_data_selected, sizes = (100, 2000),\n",
    "                  legend = False)\n",
    "plt.plot([60, suction_max_value], \n",
    "          [use_time_mean_value, use_time_mean_value], \n",
    "          'r--', \n",
    "          lw = 1 )\n",
    "plt.plot([suction_mean_value, suction_mean_value], \n",
    "          [20, use_time_max_value], \n",
    "          'r--', \n",
    "          lw = 1 )\n",
    "for index, row in chart_data_selected.iterrows():\n",
    "    x = row['흡입력']\n",
    "    y = row['사용시간']\n",
    "    s = row['제품'].split(' ')[0]\n",
    "    plt.text(x, y, s, size=20)\n",
    "plt.show()"
   ]
  },
  {
   "cell_type": "code",
   "execution_count": null,
   "metadata": {},
   "outputs": [],
   "source": [
    "# 추가\n",
    "\n",
    "# 가능한 한글 폰트 찾기\n",
    "\n",
    "import matplotlib.font_manager\n",
    "\n",
    "# 설치된 폰트 목록 가져오기\n",
    "font_list = matplotlib.font_manager.findSystemFonts(fontpaths=None, fontext='ttf')\n",
    "\n",
    "# 설치된 모든 폰트 출력\n",
    "for font in font_list:\n",
    "    print(font)"
   ]
  }
 ],
 "metadata": {
  "kernelspec": {
   "display_name": "Python 3 (ipykernel)",
   "language": "python",
   "name": "python3"
  },
  "language_info": {
   "codemirror_mode": {
    "name": "ipython",
    "version": 3
   },
   "file_extension": ".py",
   "mimetype": "text/x-python",
   "name": "python",
   "nbconvert_exporter": "python",
   "pygments_lexer": "ipython3",
   "version": "3.11.5"
  }
 },
 "nbformat": 4,
 "nbformat_minor": 2
}
