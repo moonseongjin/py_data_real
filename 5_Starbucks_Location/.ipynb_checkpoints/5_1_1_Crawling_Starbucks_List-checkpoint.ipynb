{
 "cells": [
  {
   "cell_type": "code",
   "execution_count": 26,
   "metadata": {},
   "outputs": [],
   "source": [
    "# 예제 5-1  라이브러리 임포트\n",
    "from selenium.webdriver.common.by import By\n",
    "from bs4 import BeautifulSoup\n",
    "import pandas as pd\n",
    "\n",
    "# 예제 5-2  webdriver 실행 후 스타벅스의 지역별 매장 검색 화면에 접속\n",
    "browser = webdriver.Chrome()\n",
    "url = 'https://www.istarbucks.co.kr/store/store_map.do?disp=locale'\n",
    "browser.get(url)\n"
   ]
  },
  {
   "cell_type": "code",
   "execution_count": 25,
   "metadata": {},
   "outputs": [],
   "source": [
    "# 예제 5-3 webdriver로 ‘서울’ 버튼 요소를 찾아 클릭\n",
    "\n",
    "seoul_btn_css = 'div.loca_step1_cont > ul > li:nth-child(1) > a'\n",
    "seoul_btn = browser.find_element(By.CSS_SELECTOR, seoul_btn_css)\n",
    "seoul_btn.click()"
   ]
  },
  {
   "cell_type": "code",
   "execution_count": 27,
   "metadata": {},
   "outputs": [],
   "source": [
    "# 예제 5-4  webdriver로 ‘전체’ 버튼 요소를 찾아 클릭\n",
    "\n",
    "all_btn_css = '#mCSB_2_container > ul > li:nth-child(1) > a'\n",
    "all_btn = browser.find_element(By.CSS_SELECTOR, all_btn_css)\n",
    "all_btn.click()"
   ]
  },
  {
   "cell_type": "code",
   "execution_count": 28,
   "metadata": {},
   "outputs": [],
   "source": [
    "# 예제 5-5  BeautifulSoup으로 HTML 파서 만들기\n",
    "html = browser.page_source\n",
    "soup = BeautifulSoup(html, 'html.parser')"
   ]
  },
  {
   "cell_type": "code",
   "execution_count": 29,
   "metadata": {},
   "outputs": [
    {
     "name": "stdout",
     "output_type": "stream",
     "text": [
      "613\n"
     ]
    }
   ],
   "source": [
    "# 예제 5-6  select()를 이용해 원하는 HTML 태그를 모두 찾아오기\n",
    "starbucks_soup_list = soup.select('li.quickResultLstCon')\n",
    "print(len(starbucks_soup_list))"
   ]
  },
  {
   "cell_type": "code",
   "execution_count": 30,
   "metadata": {},
   "outputs": [
    {
     "data": {
      "text/plain": [
       "<li class=\"quickResultLstCon\" data-code=\"3762\" data-hlytag=\"null\" data-index=\"0\" data-lat=\"37.501087\" data-long=\"127.043069\" data-name=\"역삼아레나빌딩\" data-storecd=\"1509\" style=\"background:#fff\"> <strong data-my_siren_order_store_yn=\"N\" data-name=\"역삼아레나빌딩\" data-store=\"1509\" data-yn=\"N\">역삼아레나빌딩  </strong> <p class=\"result_details\">서울특별시 강남구 언주로 425 (역삼동)<br/>1522-3232</p> <i class=\"pin_general\">리저브 매장 2번</i></li>"
      ]
     },
     "execution_count": 30,
     "metadata": {},
     "output_type": "execute_result"
    }
   ],
   "source": [
    "# 예제 5-7  태그 문자열 살펴보기\n",
    "starbucks_soup_list[0]"
   ]
  },
  {
   "cell_type": "code",
   "execution_count": 31,
   "metadata": {},
   "outputs": [
    {
     "name": "stdout",
     "output_type": "stream",
     "text": [
      "역삼아레나빌딩\n",
      "37.501087\n",
      "127.043069\n",
      "general\n",
      "서울특별시 강남구 언주로 425 (역삼동)\n",
      "1522-3232\n"
     ]
    }
   ],
   "source": [
    "# 예제 5-8 스타벅스 매장 정보 샘플 확인\n",
    "startbucks_store = starbucks_soup_list[0]\n",
    "name = startbucks_store.select('strong')[0].text.strip()\n",
    "lat = startbucks_store['data-lat'].strip()\n",
    "lng = startbucks_store['data-long'].strip()\n",
    "store_type = startbucks_store.select('i')[0]['class'][0][4:]\n",
    "address = str(startbucks_store.select('p.result_details')[0]).split('<br/>')[0].split('>')[1]\n",
    "tel = str(startbucks_store.select('p.result_details')[0]).split('<br/>')[1].split('<')[0]\n",
    "\n",
    "print(name)         # 매장명\n",
    "print(lat)          # 위도\n",
    "print(lng)          # 경도\n",
    "print(store_type)   # 매장 타입\n",
    "print(address)      # 주소\n",
    "print(tel)          # 전화번호"
   ]
  },
  {
   "cell_type": "code",
   "execution_count": 32,
   "metadata": {},
   "outputs": [],
   "source": [
    "# 예제 5-9 서울시 스타벅스 매장 목록 데이터 만들기\n",
    "starbucks_list = []\n",
    "for item in starbucks_soup_list:\n",
    "    name = item.select('strong')[0].text.strip();\n",
    "    lat = item['data-lat'].strip()\n",
    "    lng = item['data-long'].strip()\n",
    "    store_type = item.select('i')[0]['class'][0][4:]\n",
    "    address = str(item.select('p.result_details')[0]).split('<br/>')[0].split('>')[1]\n",
    "    tel = str(item.select('p.result_details')[0]).split('<br/>')[1].split('<')[0]\n",
    "    \n",
    "    starbucks_list.append( [ name, lat, lng, store_type, address, tel])"
   ]
  },
  {
   "cell_type": "code",
   "execution_count": 33,
   "metadata": {},
   "outputs": [
    {
     "data": {
      "text/html": [
       "<div>\n",
       "<style scoped>\n",
       "    .dataframe tbody tr th:only-of-type {\n",
       "        vertical-align: middle;\n",
       "    }\n",
       "\n",
       "    .dataframe tbody tr th {\n",
       "        vertical-align: top;\n",
       "    }\n",
       "\n",
       "    .dataframe thead th {\n",
       "        text-align: right;\n",
       "    }\n",
       "</style>\n",
       "<table border=\"1\" class=\"dataframe\">\n",
       "  <thead>\n",
       "    <tr style=\"text-align: right;\">\n",
       "      <th></th>\n",
       "      <th>매장명</th>\n",
       "      <th>위도</th>\n",
       "      <th>경도</th>\n",
       "      <th>매장타입</th>\n",
       "      <th>주소</th>\n",
       "      <th>전화번호</th>\n",
       "    </tr>\n",
       "  </thead>\n",
       "  <tbody>\n",
       "    <tr>\n",
       "      <th>0</th>\n",
       "      <td>역삼아레나빌딩</td>\n",
       "      <td>37.501087</td>\n",
       "      <td>127.043069</td>\n",
       "      <td>general</td>\n",
       "      <td>서울특별시 강남구 언주로 425 (역삼동)</td>\n",
       "      <td>1522-3232</td>\n",
       "    </tr>\n",
       "    <tr>\n",
       "      <th>1</th>\n",
       "      <td>논현역사거리</td>\n",
       "      <td>37.510178</td>\n",
       "      <td>127.022223</td>\n",
       "      <td>general</td>\n",
       "      <td>서울특별시 강남구 강남대로 538 (논현동)</td>\n",
       "      <td>1522-3232</td>\n",
       "    </tr>\n",
       "    <tr>\n",
       "      <th>2</th>\n",
       "      <td>신사역성일빌딩</td>\n",
       "      <td>37.5139309</td>\n",
       "      <td>127.0206057</td>\n",
       "      <td>general</td>\n",
       "      <td>서울특별시 강남구 강남대로 584 (논현동)</td>\n",
       "      <td>1522-3232</td>\n",
       "    </tr>\n",
       "    <tr>\n",
       "      <th>3</th>\n",
       "      <td>국기원사거리</td>\n",
       "      <td>37.499517</td>\n",
       "      <td>127.031495</td>\n",
       "      <td>general</td>\n",
       "      <td>서울특별시 강남구 테헤란로 125 (역삼동)</td>\n",
       "      <td>1522-3232</td>\n",
       "    </tr>\n",
       "    <tr>\n",
       "      <th>4</th>\n",
       "      <td>대치재경빌딩</td>\n",
       "      <td>37.494668</td>\n",
       "      <td>127.062583</td>\n",
       "      <td>general</td>\n",
       "      <td>서울특별시 강남구 남부순환로 2947 (대치동)</td>\n",
       "      <td>1522-3232</td>\n",
       "    </tr>\n",
       "  </tbody>\n",
       "</table>\n",
       "</div>"
      ],
      "text/plain": [
       "       매장명          위도           경도     매장타입                          주소  \\\n",
       "0  역삼아레나빌딩   37.501087   127.043069  general     서울특별시 강남구 언주로 425 (역삼동)   \n",
       "1   논현역사거리   37.510178   127.022223  general    서울특별시 강남구 강남대로 538 (논현동)   \n",
       "2  신사역성일빌딩  37.5139309  127.0206057  general    서울특별시 강남구 강남대로 584 (논현동)   \n",
       "3   국기원사거리   37.499517   127.031495  general    서울특별시 강남구 테헤란로 125 (역삼동)   \n",
       "4   대치재경빌딩   37.494668   127.062583  general  서울특별시 강남구 남부순환로 2947 (대치동)   \n",
       "\n",
       "        전화번호  \n",
       "0  1522-3232  \n",
       "1  1522-3232  \n",
       "2  1522-3232  \n",
       "3  1522-3232  \n",
       "4  1522-3232  "
      ]
     },
     "execution_count": 33,
     "metadata": {},
     "output_type": "execute_result"
    }
   ],
   "source": [
    "# 예제 5-10  pandas의 데이터프레임 생성\n",
    "columns = ['매장명','위도','경도','매장타입', '주소','전화번호']\n",
    "seoul_starbucks_df = pd.DataFrame(starbucks_list, columns = columns)\n",
    "seoul_starbucks_df.head()"
   ]
  },
  {
   "cell_type": "code",
   "execution_count": 34,
   "metadata": {},
   "outputs": [
    {
     "name": "stdout",
     "output_type": "stream",
     "text": [
      "<class 'pandas.core.frame.DataFrame'>\n",
      "RangeIndex: 613 entries, 0 to 612\n",
      "Data columns (total 6 columns):\n",
      " #   Column  Non-Null Count  Dtype \n",
      "---  ------  --------------  ----- \n",
      " 0   매장명     613 non-null    object\n",
      " 1   위도      613 non-null    object\n",
      " 2   경도      613 non-null    object\n",
      " 3   매장타입    613 non-null    object\n",
      " 4   주소      613 non-null    object\n",
      " 5   전화번호    613 non-null    object\n",
      "dtypes: object(6)\n",
      "memory usage: 28.9+ KB\n"
     ]
    }
   ],
   "source": [
    "# 예제 5-11  데이터프레임의 요약 정보 확인\n",
    "seoul_starbucks_df.info()"
   ]
  },
  {
   "cell_type": "code",
   "execution_count": 35,
   "metadata": {},
   "outputs": [],
   "source": [
    "# 예제 5-12 엑셀로 저장\n",
    "seoul_starbucks_df.to_excel('./files/4_1_seoul_starbucks_list.xlsx', index=False)"
   ]
  },
  {
   "cell_type": "code",
   "execution_count": null,
   "metadata": {},
   "outputs": [],
   "source": []
  }
 ],
 "metadata": {
  "kernelspec": {
   "display_name": "Python 3 (ipykernel)",
   "language": "python",
   "name": "python3"
  },
  "language_info": {
   "codemirror_mode": {
    "name": "ipython",
    "version": 3
   },
   "file_extension": ".py",
   "mimetype": "text/x-python",
   "name": "python",
   "nbconvert_exporter": "python",
   "pygments_lexer": "ipython3",
   "version": "3.11.5"
  }
 },
 "nbformat": 4,
 "nbformat_minor": 2
}
